{
 "cells": [
  {
   "cell_type": "markdown",
   "metadata": {},
   "source": [
    "# IBM Data Challenge "
   ]
  },
  {
   "cell_type": "markdown",
   "metadata": {},
   "source": [
    "<img align='left' style=\"width:100%\" src='https://mixiw-c41f.kxcdn.com/wp-content/uploads/2015/08/kickstarter-logo.jpg'>"
   ]
  },
  {
   "cell_type": "markdown",
   "metadata": {},
   "source": [
    "COPY PASTE ALV DE KAGGLE PERO POS ALGO ASI\n",
    "\n",
    "Kickstarter es una corporación estadounidense de beneficio público con sede en Brooklyn, Nueva York, que mantiene una plataforma global de crowdfunding. La misión declarada de la compañía es \"ayudar a dar vida a proyectos creativos\". Según los informes, Kickstarter recibió más de $ 1.9 mil millones en promesas de contribuciones de 9.4 millones de patrocinadores para financiar 257,000 proyectos creativos, como películas, música, espectáculos, cómics, periodismo, videojuegos, tecnología y proyectos relacionados con alimentos.\n",
    "\n",
    "Las personas que respaldan los proyectos de Kickstarter reciben recompensas tangibles o experiencias a cambio de sus donaciones."
   ]
  },
  {
   "cell_type": "markdown",
   "metadata": {},
   "source": [
    "# Data\n",
    "\n",
    "Los datos utilizados en este notebook provienen de un dataset publicado en el sitio web [Kaggle](https://www.kaggle.com/kemical/kickstarter-projects) con datos recolectados de la [plataforma Kickstarter](https://www.kickstarter.com).\n",
    "\n",
    "Descripcion del dataset\n",
    "\n",
    "The dataset is a combination of two datasets with hotel demand data. One of the hotels is a resort hotel and the other is a city hotel. Its structure is formed with 32 variables describing the 40,060 observations of *resort hotel* and 79,330 observations of *city hotel*. Each observation represents a hotel booking. \n",
    "\n",
    "The dataset stores bookings due to arrive between the 1st of July of 2015 and the 31st of August 2017, including bookings that effectively arrived and bookings that were canceled. Since this is real hotel data, the authors deleted all data elements pertaining hotel or costumer identification. "
   ]
  },
  {
   "cell_type": "markdown",
   "metadata": {},
   "source": [
    "## Descripción de variables"
   ]
  },
  {
   "cell_type": "markdown",
   "metadata": {},
   "source": [
    "A continuación se muestra la lista de variables iniciales del dataset. \n",
    "\n",
    "**id:** id de la campaña.                             \n",
    "**nombre:** nombre de la campaña o el producto.                         \n",
    "**categoria:** categoria específica a la que pertenece (ejemplos)                      \n",
    "**categoria_principal:** categoría general a la que pertenece.         \n",
    "**moneda:** moneda del país de origen del creador.                        \n",
    "**deadline:** fecha límite de la campaña.                       \n",
    "**meta:** cantidad definida para arrancar el proyecto.                            \n",
    "**lanzamiento:** fecha de inicio de la campaña.                    \n",
    "**recaudacion:** cantidad de dinero reunida en la moneda original.                    \n",
    "**patrocinadores:** el número de personas que hicieron donaciones a la campaña.                 \n",
    "**pais:** país de origen del creador de la campaña.                           \n",
    "**dolares_recaudados:** conversión a dólares de la recaudación por la plataforma.             \n",
    "**dolares_recaudados_reales:** conversión a dólares de la recaudación por la API Fixer.io.     \n",
    "**meta_dolares_reales:** conversión a dólares de la meta por la API Fixer.io.             \n",
    "**estado:** estado de la campaña (éxitosa, fracaso, cancelada, activa o suspendida).                         "
   ]
  },
  {
   "cell_type": "markdown",
   "metadata": {},
   "source": [
    "# Librerías"
   ]
  },
  {
   "cell_type": "code",
   "execution_count": 2,
   "metadata": {},
   "outputs": [],
   "source": [
    "import numpy as np\n",
    "import matplotlib.pyplot as plt\n",
    "import pandas as pd\n",
    "import seaborn as sns\n",
    "\n",
    "pd.set_option('display.float_format', lambda x: '%.2f' % x)"
   ]
  },
  {
   "cell_type": "markdown",
   "metadata": {},
   "source": [
    "# Preprocesamiento de Datos"
   ]
  },
  {
   "cell_type": "code",
   "execution_count": 104,
   "metadata": {},
   "outputs": [
    {
     "name": "stdout",
     "output_type": "stream",
     "text": [
      "Shape:  (378661, 14)\n",
      "<class 'pandas.core.frame.DataFrame'>\n",
      "RangeIndex: 378661 entries, 0 to 378660\n",
      "Data columns (total 14 columns):\n",
      "id                           378661 non-null int64\n",
      "nombre                       378657 non-null object\n",
      "categoria                    378661 non-null object\n",
      "categoria_principal          378661 non-null object\n",
      "moneda                       378661 non-null object\n",
      "deadline                     378661 non-null object\n",
      "meta                         378661 non-null float64\n",
      "lanzamiento                  378661 non-null object\n",
      "recaudacion                  378661 non-null float64\n",
      "patrocinadores               378661 non-null int64\n",
      "pais                         378661 non-null object\n",
      "dolares_recaudados           374864 non-null float64\n",
      "dolares_recaudados_reales    378661 non-null float64\n",
      "meta_dolares_reales          378661 non-null float64\n",
      "dtypes: float64(5), int64(2), object(7)\n",
      "memory usage: 40.4+ MB\n"
     ]
    }
   ],
   "source": [
    "data = pd.read_csv('https://raw.githubusercontent.com/JaimeSolisS/IBM-Data-Challenge/master/Datasets/ks-projects-201801.csv', encoding= 'latin-1')\n",
    "data = data.rename(columns={\"ID\": \"id\", \"name\": \"nombre\", \"category\":\"categoria\", \"main_category\":\"categoria_principal\",\n",
    "                   \"currency\":\"moneda\",\"deadline\":\"deadline\",\"goal\":\"meta\",\"launched\":\"lanzamiento\",\"pledged\":\"recaudacion\",\n",
    "                    \"state\": \"estado\", \"backers\": \"patrocinadores\", \"country\": \"pais\", \"usd pledged\": \"dolares_recaudados\", \n",
    "                    \"usd_pledged_real\": \"dolares_recaudados_reales\", \"usd_goal_real\": \"meta_dolares_reales\" })\n",
    "aux = data.pop('estado')\n",
    "print(\"Shape: \",data.shape)\n",
    "data.info()"
   ]
  },
  {
   "cell_type": "code",
   "execution_count": 168,
   "metadata": {},
   "outputs": [
    {
     "data": {
      "text/plain": [
       "Index(['nombre', 'categoria', 'categoria_principal', 'deadline', 'lanzamiento',\n",
       "       'patrocinadores', 'pais', 'recaudacion', 'meta', 'estado'],\n",
       "      dtype='object')"
      ]
     },
     "execution_count": 168,
     "metadata": {},
     "output_type": "execute_result"
    }
   ],
   "source": [
    "data.columns"
   ]
  },
  {
   "cell_type": "markdown",
   "metadata": {
    "cell_style": "center"
   },
   "source": [
    "El dataset original tiene 378661 registros y 14 variables + la **label**(estado). Tiene variables enteras, flotantes y objetos que tendrán que convertirse en númericas más adelante.   "
   ]
  },
  {
   "cell_type": "code",
   "execution_count": 162,
   "metadata": {},
   "outputs": [
    {
     "data": {
      "text/html": [
       "<div>\n",
       "<style scoped>\n",
       "    .dataframe tbody tr th:only-of-type {\n",
       "        vertical-align: middle;\n",
       "    }\n",
       "\n",
       "    .dataframe tbody tr th {\n",
       "        vertical-align: top;\n",
       "    }\n",
       "\n",
       "    .dataframe thead th {\n",
       "        text-align: right;\n",
       "    }\n",
       "</style>\n",
       "<table border=\"1\" class=\"dataframe\">\n",
       "  <thead>\n",
       "    <tr style=\"text-align: right;\">\n",
       "      <th></th>\n",
       "      <th>id</th>\n",
       "      <th>nombre</th>\n",
       "      <th>categoria</th>\n",
       "      <th>categoria_principal</th>\n",
       "      <th>moneda</th>\n",
       "      <th>deadline</th>\n",
       "      <th>meta</th>\n",
       "      <th>lanzamiento</th>\n",
       "      <th>recaudacion</th>\n",
       "      <th>patrocinadores</th>\n",
       "      <th>pais</th>\n",
       "      <th>dolares_recaudados</th>\n",
       "      <th>dolares_recaudados_reales</th>\n",
       "      <th>meta_dolares_reales</th>\n",
       "      <th>estado</th>\n",
       "    </tr>\n",
       "  </thead>\n",
       "  <tbody>\n",
       "    <tr>\n",
       "      <td>0</td>\n",
       "      <td>1000002330</td>\n",
       "      <td>The Songs of Adelaide &amp; Abullah</td>\n",
       "      <td>Poetry</td>\n",
       "      <td>Publishing</td>\n",
       "      <td>GBP</td>\n",
       "      <td>09/10/15</td>\n",
       "      <td>1000.00</td>\n",
       "      <td>11/08/15 12:12</td>\n",
       "      <td>0.00</td>\n",
       "      <td>0</td>\n",
       "      <td>GB</td>\n",
       "      <td>0.00</td>\n",
       "      <td>0.00</td>\n",
       "      <td>1533.95</td>\n",
       "      <td>failed</td>\n",
       "    </tr>\n",
       "    <tr>\n",
       "      <td>1</td>\n",
       "      <td>1000003930</td>\n",
       "      <td>Greeting From Earth: ZGAC Arts Capsule For ET</td>\n",
       "      <td>Narrative Film</td>\n",
       "      <td>Film &amp; Video</td>\n",
       "      <td>USD</td>\n",
       "      <td>01/11/17</td>\n",
       "      <td>30000.00</td>\n",
       "      <td>02/09/17 4:43</td>\n",
       "      <td>2421.00</td>\n",
       "      <td>15</td>\n",
       "      <td>US</td>\n",
       "      <td>100.00</td>\n",
       "      <td>2421.00</td>\n",
       "      <td>30000.00</td>\n",
       "      <td>failed</td>\n",
       "    </tr>\n",
       "    <tr>\n",
       "      <td>2</td>\n",
       "      <td>1000004038</td>\n",
       "      <td>Where is Hank?</td>\n",
       "      <td>Narrative Film</td>\n",
       "      <td>Film &amp; Video</td>\n",
       "      <td>USD</td>\n",
       "      <td>26/02/13</td>\n",
       "      <td>45000.00</td>\n",
       "      <td>12/01/13 0:20</td>\n",
       "      <td>220.00</td>\n",
       "      <td>3</td>\n",
       "      <td>US</td>\n",
       "      <td>220.00</td>\n",
       "      <td>220.00</td>\n",
       "      <td>45000.00</td>\n",
       "      <td>failed</td>\n",
       "    </tr>\n",
       "    <tr>\n",
       "      <td>3</td>\n",
       "      <td>1000007540</td>\n",
       "      <td>ToshiCapital Rekordz Needs Help to Complete Album</td>\n",
       "      <td>Music</td>\n",
       "      <td>Music</td>\n",
       "      <td>USD</td>\n",
       "      <td>16/04/12</td>\n",
       "      <td>5000.00</td>\n",
       "      <td>17/03/12 3:24</td>\n",
       "      <td>1.00</td>\n",
       "      <td>1</td>\n",
       "      <td>US</td>\n",
       "      <td>1.00</td>\n",
       "      <td>1.00</td>\n",
       "      <td>5000.00</td>\n",
       "      <td>failed</td>\n",
       "    </tr>\n",
       "    <tr>\n",
       "      <td>4</td>\n",
       "      <td>1000011046</td>\n",
       "      <td>Community Film Project: The Art of Neighborhoo...</td>\n",
       "      <td>Film &amp; Video</td>\n",
       "      <td>Film &amp; Video</td>\n",
       "      <td>USD</td>\n",
       "      <td>29/08/15</td>\n",
       "      <td>19500.00</td>\n",
       "      <td>04/07/15 8:35</td>\n",
       "      <td>1283.00</td>\n",
       "      <td>14</td>\n",
       "      <td>US</td>\n",
       "      <td>1283.00</td>\n",
       "      <td>1283.00</td>\n",
       "      <td>19500.00</td>\n",
       "      <td>canceled</td>\n",
       "    </tr>\n",
       "  </tbody>\n",
       "</table>\n",
       "</div>"
      ],
      "text/plain": [
       "           id                                             nombre  \\\n",
       "0  1000002330                    The Songs of Adelaide & Abullah   \n",
       "1  1000003930      Greeting From Earth: ZGAC Arts Capsule For ET   \n",
       "2  1000004038                                     Where is Hank?   \n",
       "3  1000007540  ToshiCapital Rekordz Needs Help to Complete Album   \n",
       "4  1000011046  Community Film Project: The Art of Neighborhoo...   \n",
       "\n",
       "        categoria categoria_principal moneda  deadline     meta  \\\n",
       "0          Poetry          Publishing    GBP  09/10/15  1000.00   \n",
       "1  Narrative Film        Film & Video    USD  01/11/17 30000.00   \n",
       "2  Narrative Film        Film & Video    USD  26/02/13 45000.00   \n",
       "3           Music               Music    USD  16/04/12  5000.00   \n",
       "4    Film & Video        Film & Video    USD  29/08/15 19500.00   \n",
       "\n",
       "      lanzamiento  recaudacion  patrocinadores pais  dolares_recaudados  \\\n",
       "0  11/08/15 12:12         0.00               0   GB                0.00   \n",
       "1   02/09/17 4:43      2421.00              15   US              100.00   \n",
       "2   12/01/13 0:20       220.00               3   US              220.00   \n",
       "3   17/03/12 3:24         1.00               1   US                1.00   \n",
       "4   04/07/15 8:35      1283.00              14   US             1283.00   \n",
       "\n",
       "   dolares_recaudados_reales  meta_dolares_reales    estado  \n",
       "0                       0.00              1533.95    failed  \n",
       "1                    2421.00             30000.00    failed  \n",
       "2                     220.00             45000.00    failed  \n",
       "3                       1.00              5000.00    failed  \n",
       "4                    1283.00             19500.00  canceled  "
      ]
     },
     "execution_count": 162,
     "metadata": {},
     "output_type": "execute_result"
    }
   ],
   "source": [
    "data.head()"
   ]
  },
  {
   "cell_type": "markdown",
   "metadata": {},
   "source": [
    "De la tabla se pueden concluir varias cosas. Primero, que muchas de las variables deberán convertirse a númericas para que los algoritmos de Machine Learning puedan procesarlas. Además se puede que ver que las variables varian bastante en rangos (patrocinadores y meta, por ejemplo), por lo que debemos convertirlas a la misma escala."
   ]
  },
  {
   "cell_type": "markdown",
   "metadata": {},
   "source": [
    "## Limpieza de datos"
   ]
  },
  {
   "cell_type": "markdown",
   "metadata": {},
   "source": [
    "### Valores nulos"
   ]
  },
  {
   "cell_type": "code",
   "execution_count": 163,
   "metadata": {},
   "outputs": [
    {
     "data": {
      "text/plain": [
       "<matplotlib.axes._subplots.AxesSubplot at 0x1cabe84e50>"
      ]
     },
     "execution_count": 163,
     "metadata": {},
     "output_type": "execute_result"
    },
    {
     "data": {
      "image/png": "[encoded data removed]",
      "text/plain": [
       "<Figure size 720x360 with 1 Axes>"
      ]
     },
     "metadata": {
      "needs_background": "light"
     },
     "output_type": "display_data"
    }
   ],
   "source": [
    "fig, ax = plt.subplots(figsize=(10,5))  \n",
    "sns.heatmap(data.isnull(),yticklabels=False,cbar=False,cmap='cividis')"
   ]
  },
  {
   "cell_type": "markdown",
   "metadata": {},
   "source": [
    "La gráfica muestra en color amarillo cuánta información está faltando en cada variable. Tal parece que no es mucha por lo que conviene ver más a detalle cuántos datos nulos tenemos. \n"
   ]
  },
  {
   "cell_type": "code",
   "execution_count": 144,
   "metadata": {},
   "outputs": [
    {
     "name": "stderr",
     "output_type": "stream",
     "text": [
      "/Users/jaimesolis/opt/anaconda3/lib/python3.7/site-packages/ipykernel_launcher.py:4: FutureWarning: Sorting because non-concatenation axis is not aligned. A future version\n",
      "of pandas will change to not sort by default.\n",
      "\n",
      "To accept the future behavior, pass 'sort=False'.\n",
      "\n",
      "To retain the current behavior and silence the warning, pass 'sort=True'.\n",
      "\n",
      "  after removing the cwd from sys.path.\n"
     ]
    },
    {
     "data": {
      "text/html": [
       "<div>\n",
       "<style scoped>\n",
       "    .dataframe tbody tr th:only-of-type {\n",
       "        vertical-align: middle;\n",
       "    }\n",
       "\n",
       "    .dataframe tbody tr th {\n",
       "        vertical-align: top;\n",
       "    }\n",
       "\n",
       "    .dataframe thead th {\n",
       "        text-align: right;\n",
       "    }\n",
       "</style>\n",
       "<table border=\"1\" class=\"dataframe\">\n",
       "  <thead>\n",
       "    <tr style=\"text-align: right;\">\n",
       "      <th></th>\n",
       "      <th>Datos nulos</th>\n",
       "      <th>% Porcentaje</th>\n",
       "    </tr>\n",
       "  </thead>\n",
       "  <tbody>\n",
       "    <tr>\n",
       "      <td>dolares_recaudados</td>\n",
       "      <td>3797</td>\n",
       "      <td>1.00</td>\n",
       "    </tr>\n",
       "    <tr>\n",
       "      <td>nombre</td>\n",
       "      <td>4</td>\n",
       "      <td>0.00</td>\n",
       "    </tr>\n",
       "    <tr>\n",
       "      <td>categoria</td>\n",
       "      <td>0</td>\n",
       "      <td>0.00</td>\n",
       "    </tr>\n",
       "    <tr>\n",
       "      <td>categoria_principal</td>\n",
       "      <td>0</td>\n",
       "      <td>0.00</td>\n",
       "    </tr>\n",
       "    <tr>\n",
       "      <td>deadline</td>\n",
       "      <td>0</td>\n",
       "      <td>0.00</td>\n",
       "    </tr>\n",
       "  </tbody>\n",
       "</table>\n",
       "</div>"
      ],
      "text/plain": [
       "                     Datos nulos  % Porcentaje\n",
       "dolares_recaudados          3797          1.00\n",
       "nombre                         4          0.00\n",
       "categoria                      0          0.00\n",
       "categoria_principal            0          0.00\n",
       "deadline                       0          0.00"
      ]
     },
     "execution_count": 144,
     "metadata": {},
     "output_type": "execute_result"
    }
   ],
   "source": [
    "null = data.isnull().sum().sort_values(ascending=True)\n",
    "percentNull = data.isnull().sum()/data.isnull().count()*100\n",
    "percentNull = (round(percentNull, 2)).sort_values(ascending=True)\n",
    "missingData = pd.concat([null, percentNull], axis=1, keys=['Datos nulos', '% Porcentaje'])\n",
    "missingData.sort_values(by=['Datos nulos'], ascending=False).head()"
   ]
  },
  {
   "cell_type": "markdown",
   "metadata": {},
   "source": [
    "La variable de dolares_reunidos tiene casi 4000 datos nulos, lo que equivale a un 1%. Debido a que se encontraron incongruencias entre esta variable y dolares reales así como \"reunido\", no tiene caso trabajar con la primera ya que además de los datos nulos, tiene errores, por lo que es mejor eliminarla. Hay 4 projectos sin nombre, lo cual probablemente sea un error, por lo que se eliminarán los 4 registros. Estas son las únicas dos variables que cuentan con este problema."
   ]
  },
  {
   "cell_type": "code",
   "execution_count": 164,
   "metadata": {},
   "outputs": [],
   "source": [
    "data = data.drop(columns=['dolares_recaudados'])\n",
    "data = data.dropna(how='any',axis=0) "
   ]
  },
  {
   "cell_type": "markdown",
   "metadata": {},
   "source": [
    "### Registros Duplicados"
   ]
  },
  {
   "cell_type": "code",
   "execution_count": 146,
   "metadata": {},
   "outputs": [
    {
     "name": "stdout",
     "output_type": "stream",
     "text": [
      "Registros duplicados :\n"
     ]
    },
    {
     "data": {
      "text/plain": [
       "0"
      ]
     },
     "execution_count": 146,
     "metadata": {},
     "output_type": "execute_result"
    }
   ],
   "source": [
    "duplicates = data[data.duplicated()] \n",
    "print(\"Registros duplicados :\")\n",
    "len(duplicates)"
   ]
  },
  {
   "cell_type": "markdown",
   "metadata": {},
   "source": [
    "El dataset no contiene elementos duplicados. "
   ]
  },
  {
   "cell_type": "markdown",
   "metadata": {},
   "source": [
    "### Ruido y Outliers"
   ]
  },
  {
   "cell_type": "code",
   "execution_count": 148,
   "metadata": {},
   "outputs": [
    {
     "data": {
      "text/html": [
       "<div>\n",
       "<style scoped>\n",
       "    .dataframe tbody tr th:only-of-type {\n",
       "        vertical-align: middle;\n",
       "    }\n",
       "\n",
       "    .dataframe tbody tr th {\n",
       "        vertical-align: top;\n",
       "    }\n",
       "\n",
       "    .dataframe thead th {\n",
       "        text-align: right;\n",
       "    }\n",
       "</style>\n",
       "<table border=\"1\" class=\"dataframe\">\n",
       "  <thead>\n",
       "    <tr style=\"text-align: right;\">\n",
       "      <th></th>\n",
       "      <th>count</th>\n",
       "      <th>mean</th>\n",
       "      <th>std</th>\n",
       "      <th>min</th>\n",
       "      <th>25%</th>\n",
       "      <th>50%</th>\n",
       "      <th>75%</th>\n",
       "      <th>max</th>\n",
       "    </tr>\n",
       "  </thead>\n",
       "  <tbody>\n",
       "    <tr>\n",
       "      <td>id</td>\n",
       "      <td>378657.00</td>\n",
       "      <td>1074732169.04</td>\n",
       "      <td>619087231.97</td>\n",
       "      <td>5971.00</td>\n",
       "      <td>538249926.00</td>\n",
       "      <td>1075275666.00</td>\n",
       "      <td>1610148624.00</td>\n",
       "      <td>2147476221.00</td>\n",
       "    </tr>\n",
       "    <tr>\n",
       "      <td>patrocinadores</td>\n",
       "      <td>378657.00</td>\n",
       "      <td>105.62</td>\n",
       "      <td>907.19</td>\n",
       "      <td>0.00</td>\n",
       "      <td>2.00</td>\n",
       "      <td>12.00</td>\n",
       "      <td>56.00</td>\n",
       "      <td>219382.00</td>\n",
       "    </tr>\n",
       "    <tr>\n",
       "      <td>recaudacion</td>\n",
       "      <td>378657.00</td>\n",
       "      <td>9059.02</td>\n",
       "      <td>90973.82</td>\n",
       "      <td>0.00</td>\n",
       "      <td>31.00</td>\n",
       "      <td>624.38</td>\n",
       "      <td>4050.00</td>\n",
       "      <td>20338986.27</td>\n",
       "    </tr>\n",
       "    <tr>\n",
       "      <td>meta</td>\n",
       "      <td>378657.00</td>\n",
       "      <td>45454.25</td>\n",
       "      <td>1152956.11</td>\n",
       "      <td>0.01</td>\n",
       "      <td>2000.00</td>\n",
       "      <td>5500.00</td>\n",
       "      <td>15500.00</td>\n",
       "      <td>166361390.70</td>\n",
       "    </tr>\n",
       "  </tbody>\n",
       "</table>\n",
       "</div>"
      ],
      "text/plain": [
       "                   count          mean          std     min          25%  \\\n",
       "id             378657.00 1074732169.04 619087231.97 5971.00 538249926.00   \n",
       "patrocinadores 378657.00        105.62       907.19    0.00         2.00   \n",
       "recaudacion    378657.00       9059.02     90973.82    0.00        31.00   \n",
       "meta           378657.00      45454.25   1152956.11    0.01      2000.00   \n",
       "\n",
       "                         50%           75%           max  \n",
       "id             1075275666.00 1610148624.00 2147476221.00  \n",
       "patrocinadores         12.00         56.00     219382.00  \n",
       "recaudacion           624.38       4050.00   20338986.27  \n",
       "meta                 5500.00      15500.00  166361390.70  "
      ]
     },
     "execution_count": 148,
     "metadata": {},
     "output_type": "execute_result"
    }
   ],
   "source": [
    "descriptive = data.describe()\n",
    "descriptive.transpose()"
   ]
  },
  {
   "cell_type": "markdown",
   "metadata": {},
   "source": [
    "Podemos observar que el 50% de los proyectos tienen una meta de 5,500 dólares, sin embargo, la mitad de los proyectos no llegan a recaudar más de 650. De igual manera podemos ver que una cuarta parte de los proyectos buscan juntar más de 15 mil quinientos dólares, y que hay proyectos que buscan más de 100 millones de dólares. Por esta razón es que dejaremos las variables tal como están. "
   ]
  },
  {
   "cell_type": "markdown",
   "metadata": {},
   "source": [
    "### Variables innecesarias"
   ]
  },
  {
   "cell_type": "code",
   "execution_count": 165,
   "metadata": {},
   "outputs": [],
   "source": [
    "data = data.drop(columns=['meta', 'recaudacion'])\n",
    "data = data.rename(columns={\"meta_dolares_reales\": \"meta\", \"dolares_recaudados_reales\": \"recaudacion\" })\n"
   ]
  },
  {
   "cell_type": "markdown",
   "metadata": {},
   "source": [
    "Para tener un standard de moneda utilizaremos las variables que están convertidas a dólares, por esa razón eliminamos la variable meta y recaudación para renombrar así a las que están convertidas a dólares. "
   ]
  },
  {
   "cell_type": "code",
   "execution_count": 166,
   "metadata": {},
   "outputs": [],
   "source": [
    "data = data.drop(columns=['id', 'moneda'])"
   ]
  },
  {
   "cell_type": "markdown",
   "metadata": {},
   "source": [
    "Ya que la variable id no es útil para un análisis exploratorio ni para la creación del modelo, es descartada. Como la meta y la recaudación está en dólares, tampoco necesitamos la variable \"moneda\". La variables categoría puede resultar útil para encontrar insights, es muy probable que sea eliminada más adelante del modelo final."
   ]
  },
  {
   "cell_type": "code",
   "execution_count": 180,
   "metadata": {},
   "outputs": [
    {
     "name": "stdout",
     "output_type": "stream",
     "text": [
      "Shape:  (378657, 10)\n"
     ]
    },
    {
     "data": {
      "text/html": [
       "<div>\n",
       "<style scoped>\n",
       "    .dataframe tbody tr th:only-of-type {\n",
       "        vertical-align: middle;\n",
       "    }\n",
       "\n",
       "    .dataframe tbody tr th {\n",
       "        vertical-align: top;\n",
       "    }\n",
       "\n",
       "    .dataframe thead th {\n",
       "        text-align: right;\n",
       "    }\n",
       "</style>\n",
       "<table border=\"1\" class=\"dataframe\">\n",
       "  <thead>\n",
       "    <tr style=\"text-align: right;\">\n",
       "      <th></th>\n",
       "      <th>nombre</th>\n",
       "      <th>categoria</th>\n",
       "      <th>categoria_principal</th>\n",
       "      <th>pais</th>\n",
       "      <th>lanzamiento</th>\n",
       "      <th>deadline</th>\n",
       "      <th>patrocinadores</th>\n",
       "      <th>meta</th>\n",
       "      <th>recaudacion</th>\n",
       "      <th>estado</th>\n",
       "    </tr>\n",
       "  </thead>\n",
       "  <tbody>\n",
       "    <tr>\n",
       "      <td>0</td>\n",
       "      <td>The Songs of Adelaide &amp; Abullah</td>\n",
       "      <td>Poetry</td>\n",
       "      <td>Publishing</td>\n",
       "      <td>GB</td>\n",
       "      <td>11/08/15 12:12</td>\n",
       "      <td>09/10/15</td>\n",
       "      <td>0</td>\n",
       "      <td>1533.95</td>\n",
       "      <td>0.00</td>\n",
       "      <td>failed</td>\n",
       "    </tr>\n",
       "    <tr>\n",
       "      <td>1</td>\n",
       "      <td>Greeting From Earth: ZGAC Arts Capsule For ET</td>\n",
       "      <td>Narrative Film</td>\n",
       "      <td>Film &amp; Video</td>\n",
       "      <td>US</td>\n",
       "      <td>02/09/17 4:43</td>\n",
       "      <td>01/11/17</td>\n",
       "      <td>15</td>\n",
       "      <td>30000.00</td>\n",
       "      <td>2421.00</td>\n",
       "      <td>failed</td>\n",
       "    </tr>\n",
       "    <tr>\n",
       "      <td>2</td>\n",
       "      <td>Where is Hank?</td>\n",
       "      <td>Narrative Film</td>\n",
       "      <td>Film &amp; Video</td>\n",
       "      <td>US</td>\n",
       "      <td>12/01/13 0:20</td>\n",
       "      <td>26/02/13</td>\n",
       "      <td>3</td>\n",
       "      <td>45000.00</td>\n",
       "      <td>220.00</td>\n",
       "      <td>failed</td>\n",
       "    </tr>\n",
       "    <tr>\n",
       "      <td>3</td>\n",
       "      <td>ToshiCapital Rekordz Needs Help to Complete Album</td>\n",
       "      <td>Music</td>\n",
       "      <td>Music</td>\n",
       "      <td>US</td>\n",
       "      <td>17/03/12 3:24</td>\n",
       "      <td>16/04/12</td>\n",
       "      <td>1</td>\n",
       "      <td>5000.00</td>\n",
       "      <td>1.00</td>\n",
       "      <td>failed</td>\n",
       "    </tr>\n",
       "    <tr>\n",
       "      <td>4</td>\n",
       "      <td>Community Film Project: The Art of Neighborhoo...</td>\n",
       "      <td>Film &amp; Video</td>\n",
       "      <td>Film &amp; Video</td>\n",
       "      <td>US</td>\n",
       "      <td>04/07/15 8:35</td>\n",
       "      <td>29/08/15</td>\n",
       "      <td>14</td>\n",
       "      <td>19500.00</td>\n",
       "      <td>1283.00</td>\n",
       "      <td>canceled</td>\n",
       "    </tr>\n",
       "  </tbody>\n",
       "</table>\n",
       "</div>"
      ],
      "text/plain": [
       "                                              nombre       categoria  \\\n",
       "0                    The Songs of Adelaide & Abullah          Poetry   \n",
       "1      Greeting From Earth: ZGAC Arts Capsule For ET  Narrative Film   \n",
       "2                                     Where is Hank?  Narrative Film   \n",
       "3  ToshiCapital Rekordz Needs Help to Complete Album           Music   \n",
       "4  Community Film Project: The Art of Neighborhoo...    Film & Video   \n",
       "\n",
       "  categoria_principal pais     lanzamiento  deadline  patrocinadores     meta  \\\n",
       "0          Publishing   GB  11/08/15 12:12  09/10/15               0  1533.95   \n",
       "1        Film & Video   US   02/09/17 4:43  01/11/17              15 30000.00   \n",
       "2        Film & Video   US   12/01/13 0:20  26/02/13               3 45000.00   \n",
       "3               Music   US   17/03/12 3:24  16/04/12               1  5000.00   \n",
       "4        Film & Video   US   04/07/15 8:35  29/08/15              14 19500.00   \n",
       "\n",
       "   recaudacion    estado  \n",
       "0         0.00    failed  \n",
       "1      2421.00    failed  \n",
       "2       220.00    failed  \n",
       "3         1.00    failed  \n",
       "4      1283.00  canceled  "
      ]
     },
     "execution_count": 180,
     "metadata": {},
     "output_type": "execute_result"
    }
   ],
   "source": [
    "columnas = ['nombre', 'categoria', 'categoria_principal','pais','lanzamiento', 'deadline',\n",
    "       'patrocinadores','meta','recaudacion','estado']\n",
    "data = data.reindex(columns=columnas)\n",
    "data.to_csv('Datasets/kickstarter_clean.csv', index=False)\n",
    "print(\"Shape: \",data.shape)\n",
    "data.head()"
   ]
  },
  {
   "cell_type": "markdown",
   "metadata": {},
   "source": [
    "Podemos concluir que el dataset estaba por lo que no tuvimos que trabajar mucho en él en este sentido. Prácticamente sólo eliminamos variables que no nos son útiles para el projecto."
   ]
  },
  {
   "cell_type": "markdown",
   "metadata": {},
   "source": [
    "# Feature Engineering"
   ]
  },
  {
   "cell_type": "code",
   "execution_count": 68,
   "metadata": {},
   "outputs": [
    {
     "data": {
      "text/html": [
       "<div>\n",
       "<style scoped>\n",
       "    .dataframe tbody tr th:only-of-type {\n",
       "        vertical-align: middle;\n",
       "    }\n",
       "\n",
       "    .dataframe tbody tr th {\n",
       "        vertical-align: top;\n",
       "    }\n",
       "\n",
       "    .dataframe thead th {\n",
       "        text-align: right;\n",
       "    }\n",
       "</style>\n",
       "<table border=\"1\" class=\"dataframe\">\n",
       "  <thead>\n",
       "    <tr style=\"text-align: right;\">\n",
       "      <th></th>\n",
       "      <th>nombre</th>\n",
       "      <th>categoria</th>\n",
       "      <th>categoria_principal</th>\n",
       "      <th>pais</th>\n",
       "      <th>lanzamiento</th>\n",
       "      <th>deadline</th>\n",
       "      <th>patrocinadores</th>\n",
       "      <th>meta</th>\n",
       "      <th>recaudacion</th>\n",
       "      <th>estado</th>\n",
       "    </tr>\n",
       "  </thead>\n",
       "  <tbody>\n",
       "    <tr>\n",
       "      <td>0</td>\n",
       "      <td>The Songs of Adelaide &amp; Abullah</td>\n",
       "      <td>Poetry</td>\n",
       "      <td>Publishing</td>\n",
       "      <td>GB</td>\n",
       "      <td>11/08/15 12:12</td>\n",
       "      <td>09/10/15</td>\n",
       "      <td>0</td>\n",
       "      <td>1533.95</td>\n",
       "      <td>0.00</td>\n",
       "      <td>failed</td>\n",
       "    </tr>\n",
       "    <tr>\n",
       "      <td>1</td>\n",
       "      <td>Greeting From Earth: ZGAC Arts Capsule For ET</td>\n",
       "      <td>Narrative Film</td>\n",
       "      <td>Film &amp; Video</td>\n",
       "      <td>US</td>\n",
       "      <td>02/09/17 4:43</td>\n",
       "      <td>01/11/17</td>\n",
       "      <td>15</td>\n",
       "      <td>30000.00</td>\n",
       "      <td>2421.00</td>\n",
       "      <td>failed</td>\n",
       "    </tr>\n",
       "    <tr>\n",
       "      <td>2</td>\n",
       "      <td>Where is Hank?</td>\n",
       "      <td>Narrative Film</td>\n",
       "      <td>Film &amp; Video</td>\n",
       "      <td>US</td>\n",
       "      <td>12/01/13 0:20</td>\n",
       "      <td>26/02/13</td>\n",
       "      <td>3</td>\n",
       "      <td>45000.00</td>\n",
       "      <td>220.00</td>\n",
       "      <td>failed</td>\n",
       "    </tr>\n",
       "    <tr>\n",
       "      <td>3</td>\n",
       "      <td>ToshiCapital Rekordz Needs Help to Complete Album</td>\n",
       "      <td>Music</td>\n",
       "      <td>Music</td>\n",
       "      <td>US</td>\n",
       "      <td>17/03/12 3:24</td>\n",
       "      <td>16/04/12</td>\n",
       "      <td>1</td>\n",
       "      <td>5000.00</td>\n",
       "      <td>1.00</td>\n",
       "      <td>failed</td>\n",
       "    </tr>\n",
       "    <tr>\n",
       "      <td>4</td>\n",
       "      <td>Community Film Project: The Art of Neighborhoo...</td>\n",
       "      <td>Film &amp; Video</td>\n",
       "      <td>Film &amp; Video</td>\n",
       "      <td>US</td>\n",
       "      <td>04/07/15 8:35</td>\n",
       "      <td>29/08/15</td>\n",
       "      <td>14</td>\n",
       "      <td>19500.00</td>\n",
       "      <td>1283.00</td>\n",
       "      <td>canceled</td>\n",
       "    </tr>\n",
       "  </tbody>\n",
       "</table>\n",
       "</div>"
      ],
      "text/plain": [
       "                                              nombre       categoria  \\\n",
       "0                    The Songs of Adelaide & Abullah          Poetry   \n",
       "1      Greeting From Earth: ZGAC Arts Capsule For ET  Narrative Film   \n",
       "2                                     Where is Hank?  Narrative Film   \n",
       "3  ToshiCapital Rekordz Needs Help to Complete Album           Music   \n",
       "4  Community Film Project: The Art of Neighborhoo...    Film & Video   \n",
       "\n",
       "  categoria_principal pais     lanzamiento  deadline  patrocinadores     meta  \\\n",
       "0          Publishing   GB  11/08/15 12:12  09/10/15               0  1533.95   \n",
       "1        Film & Video   US   02/09/17 4:43  01/11/17              15 30000.00   \n",
       "2        Film & Video   US   12/01/13 0:20  26/02/13               3 45000.00   \n",
       "3               Music   US   17/03/12 3:24  16/04/12               1  5000.00   \n",
       "4        Film & Video   US   04/07/15 8:35  29/08/15              14 19500.00   \n",
       "\n",
       "   recaudacion    estado  \n",
       "0         0.00    failed  \n",
       "1      2421.00    failed  \n",
       "2       220.00    failed  \n",
       "3         1.00    failed  \n",
       "4      1283.00  canceled  "
      ]
     },
     "execution_count": 68,
     "metadata": {},
     "output_type": "execute_result"
    }
   ],
   "source": [
    "df = pd.read_csv('https://raw.githubusercontent.com/JaimeSolisS/IBM-Data-Challenge/master/Datasets/kickstarter_clean.csv')\n",
    "df.head()"
   ]
  },
  {
   "cell_type": "markdown",
   "metadata": {},
   "source": [
    "Como mencionamos en la sección anterior, es necesario trabajar algunas variables categóricas para poder utlizarlas en nuestro modelo. "
   ]
  },
  {
   "cell_type": "markdown",
   "metadata": {},
   "source": [
    "## Estado"
   ]
  },
  {
   "cell_type": "code",
   "execution_count": 183,
   "metadata": {},
   "outputs": [
    {
     "data": {
      "text/plain": [
       "failed        197716\n",
       "successful    133956\n",
       "canceled       38779\n",
       "undefined       3562\n",
       "live            2799\n",
       "suspended       1845\n",
       "Name: estado, dtype: int64"
      ]
     },
     "execution_count": 183,
     "metadata": {},
     "output_type": "execute_result"
    }
   ],
   "source": [
    "df.estado.value_counts()"
   ]
  },
  {
   "cell_type": "markdown",
   "metadata": {},
   "source": [
    "Podemos ver que el estado del proyecto puede tener 6 valores:\n",
    "\n",
    "**Failed:** No llegó a la meta.  \n",
    "**Successful:** Sí llegó a la meta.  \n",
    "**Cancelado:** El creador del proyecto canceló la campaña (Será cambiado a \"Failed\")  \n",
    "**Undefined:** Indefinido, buscaremos en la plataforma su estado actual.   \n",
    "**Live:** Activo, buscaremos en la plataforma su estado actual.   \n",
    "**Suspended:** Kickstarter puede suspender la campaña por diversos motivos, los cuales pueden ser consultados [aquí](https://help.kickstarter.com/hc/en-us/articles/115005139813-Why-would-a-project-be-suspended-). En este caso, eliminaremos los proyectos que tengan este estado.   \n",
    " \n",
    "Los proyectos que tengan estado Undefined o Live serán eliminados del dataset y guardados en otro dataframe \"dftest\" que será utilizado para realizar el testing del modelo final."
   ]
  },
  {
   "cell_type": "markdown",
   "metadata": {},
   "source": [
    "### Reemplazar valores"
   ]
  },
  {
   "cell_type": "code",
   "execution_count": 69,
   "metadata": {},
   "outputs": [
    {
     "data": {
      "text/plain": [
       "0    236495\n",
       "1    133956\n",
       "Name: estado, dtype: int64"
      ]
     },
     "execution_count": 69,
     "metadata": {},
     "output_type": "execute_result"
    }
   ],
   "source": [
    "df.estado=df.estado.replace('canceled', 'failed')\n",
    "df=df[df.estado!='suspended']\n",
    "dftest=df[(df.estado=='live') | (df.estado=='undefined')]\n",
    "df=df[(df.estado!='live') & (df.estado!='undefined')]\n",
    "df.estado=df.estado.replace('failed' ,0)\n",
    "df.estado=df.estado.replace('successful', 1)\n",
    "df.estado.value_counts()"
   ]
  },
  {
   "cell_type": "code",
   "execution_count": 103,
   "metadata": {},
   "outputs": [
    {
     "data": {
      "text/html": [
       "<div>\n",
       "<style scoped>\n",
       "    .dataframe tbody tr th:only-of-type {\n",
       "        vertical-align: middle;\n",
       "    }\n",
       "\n",
       "    .dataframe tbody tr th {\n",
       "        vertical-align: top;\n",
       "    }\n",
       "\n",
       "    .dataframe thead th {\n",
       "        text-align: right;\n",
       "    }\n",
       "</style>\n",
       "<table border=\"1\" class=\"dataframe\">\n",
       "  <thead>\n",
       "    <tr style=\"text-align: right;\">\n",
       "      <th></th>\n",
       "      <th>nombre</th>\n",
       "      <th>categoria</th>\n",
       "      <th>categoria_principal</th>\n",
       "      <th>pais</th>\n",
       "      <th>lanzamiento</th>\n",
       "      <th>deadline</th>\n",
       "      <th>patrocinadores</th>\n",
       "      <th>meta</th>\n",
       "      <th>recaudacion</th>\n",
       "      <th>estado</th>\n",
       "    </tr>\n",
       "  </thead>\n",
       "  <tbody>\n",
       "    <tr>\n",
       "      <td>40</td>\n",
       "      <td>Unschooling To University Book Project</td>\n",
       "      <td>Nonfiction</td>\n",
       "      <td>Publishing</td>\n",
       "      <td>CA</td>\n",
       "      <td>20/11/17 18:15</td>\n",
       "      <td>19/01/18</td>\n",
       "      <td>24</td>\n",
       "      <td>2396.36</td>\n",
       "      <td>472.88</td>\n",
       "      <td>live</td>\n",
       "    </tr>\n",
       "    <tr>\n",
       "      <td>169</td>\n",
       "      <td>STREETFIGHTERZ WHEELIE MURICA</td>\n",
       "      <td>Film &amp; Video</td>\n",
       "      <td>Film &amp; Video</td>\n",
       "      <td>N,0\"</td>\n",
       "      <td>06/08/14 21:28</td>\n",
       "      <td>20/09/14</td>\n",
       "      <td>0</td>\n",
       "      <td>6500.00</td>\n",
       "      <td>555.00</td>\n",
       "      <td>undefined</td>\n",
       "    </tr>\n",
       "    <tr>\n",
       "      <td>183</td>\n",
       "      <td>KILOS.</td>\n",
       "      <td>Thrillers</td>\n",
       "      <td>Film &amp; Video</td>\n",
       "      <td>US</td>\n",
       "      <td>23/12/17 20:34</td>\n",
       "      <td>06/02/18</td>\n",
       "      <td>4</td>\n",
       "      <td>5000.00</td>\n",
       "      <td>310.00</td>\n",
       "      <td>live</td>\n",
       "    </tr>\n",
       "    <tr>\n",
       "      <td>328</td>\n",
       "      <td>Duncan Woods - Chameleon EP</td>\n",
       "      <td>Music</td>\n",
       "      <td>Music</td>\n",
       "      <td>N,0\"</td>\n",
       "      <td>04/08/15 12:05</td>\n",
       "      <td>25/08/15</td>\n",
       "      <td>0</td>\n",
       "      <td>3211.53</td>\n",
       "      <td>3402.08</td>\n",
       "      <td>undefined</td>\n",
       "    </tr>\n",
       "    <tr>\n",
       "      <td>458</td>\n",
       "      <td>The Man in the Field</td>\n",
       "      <td>Horror</td>\n",
       "      <td>Film &amp; Video</td>\n",
       "      <td>GB</td>\n",
       "      <td>21/12/17 11:19</td>\n",
       "      <td>08/01/18</td>\n",
       "      <td>11</td>\n",
       "      <td>1159.38</td>\n",
       "      <td>563.32</td>\n",
       "      <td>live</td>\n",
       "    </tr>\n",
       "    <tr>\n",
       "      <td>...</td>\n",
       "      <td>...</td>\n",
       "      <td>...</td>\n",
       "      <td>...</td>\n",
       "      <td>...</td>\n",
       "      <td>...</td>\n",
       "      <td>...</td>\n",
       "      <td>...</td>\n",
       "      <td>...</td>\n",
       "      <td>...</td>\n",
       "      <td>...</td>\n",
       "    </tr>\n",
       "    <tr>\n",
       "      <td>378430</td>\n",
       "      <td>Matthew Stephens Music</td>\n",
       "      <td>Music</td>\n",
       "      <td>Music</td>\n",
       "      <td>N,0\"</td>\n",
       "      <td>06/01/16 21:59</td>\n",
       "      <td>05/02/16</td>\n",
       "      <td>0</td>\n",
       "      <td>5000.00</td>\n",
       "      <td>235.00</td>\n",
       "      <td>undefined</td>\n",
       "    </tr>\n",
       "    <tr>\n",
       "      <td>378492</td>\n",
       "      <td>Case with amplifier</td>\n",
       "      <td>Music</td>\n",
       "      <td>Music</td>\n",
       "      <td>MX</td>\n",
       "      <td>20/11/17 2:52</td>\n",
       "      <td>04/01/18</td>\n",
       "      <td>0</td>\n",
       "      <td>15490.27</td>\n",
       "      <td>0.00</td>\n",
       "      <td>live</td>\n",
       "    </tr>\n",
       "    <tr>\n",
       "      <td>378508</td>\n",
       "      <td>Our little story - Discover Romania</td>\n",
       "      <td>World Music</td>\n",
       "      <td>Music</td>\n",
       "      <td>DK</td>\n",
       "      <td>05/12/17 11:11</td>\n",
       "      <td>19/01/18</td>\n",
       "      <td>9</td>\n",
       "      <td>30313.01</td>\n",
       "      <td>162.94</td>\n",
       "      <td>live</td>\n",
       "    </tr>\n",
       "    <tr>\n",
       "      <td>378581</td>\n",
       "      <td>Lady Vendredi: Afrofuturist concept 12 inch EP</td>\n",
       "      <td>Music</td>\n",
       "      <td>Music</td>\n",
       "      <td>N,0\"</td>\n",
       "      <td>21/09/15 22:33</td>\n",
       "      <td>19/10/15</td>\n",
       "      <td>0</td>\n",
       "      <td>3080.81</td>\n",
       "      <td>3273.36</td>\n",
       "      <td>undefined</td>\n",
       "    </tr>\n",
       "    <tr>\n",
       "      <td>378584</td>\n",
       "      <td>Jeune auteur a besoin de vous!</td>\n",
       "      <td>Publishing</td>\n",
       "      <td>Publishing</td>\n",
       "      <td>N,0\"</td>\n",
       "      <td>21/10/15 21:28</td>\n",
       "      <td>20/11/15</td>\n",
       "      <td>0</td>\n",
       "      <td>1710.08</td>\n",
       "      <td>0.00</td>\n",
       "      <td>undefined</td>\n",
       "    </tr>\n",
       "  </tbody>\n",
       "</table>\n",
       "<p>6361 rows × 10 columns</p>\n",
       "</div>"
      ],
      "text/plain": [
       "                                                nombre     categoria  \\\n",
       "40              Unschooling To University Book Project    Nonfiction   \n",
       "169                      STREETFIGHTERZ WHEELIE MURICA  Film & Video   \n",
       "183                                             KILOS.     Thrillers   \n",
       "328                        Duncan Woods - Chameleon EP         Music   \n",
       "458                               The Man in the Field        Horror   \n",
       "...                                                ...           ...   \n",
       "378430                          Matthew Stephens Music         Music   \n",
       "378492                             Case with amplifier         Music   \n",
       "378508             Our little story - Discover Romania   World Music   \n",
       "378581  Lady Vendredi: Afrofuturist concept 12 inch EP         Music   \n",
       "378584                  Jeune auteur a besoin de vous!    Publishing   \n",
       "\n",
       "       categoria_principal  pais     lanzamiento  deadline  patrocinadores  \\\n",
       "40              Publishing    CA  20/11/17 18:15  19/01/18              24   \n",
       "169           Film & Video  N,0\"  06/08/14 21:28  20/09/14               0   \n",
       "183           Film & Video    US  23/12/17 20:34  06/02/18               4   \n",
       "328                  Music  N,0\"  04/08/15 12:05  25/08/15               0   \n",
       "458           Film & Video    GB  21/12/17 11:19  08/01/18              11   \n",
       "...                    ...   ...             ...       ...             ...   \n",
       "378430               Music  N,0\"  06/01/16 21:59  05/02/16               0   \n",
       "378492               Music    MX   20/11/17 2:52  04/01/18               0   \n",
       "378508               Music    DK  05/12/17 11:11  19/01/18               9   \n",
       "378581               Music  N,0\"  21/09/15 22:33  19/10/15               0   \n",
       "378584          Publishing  N,0\"  21/10/15 21:28  20/11/15               0   \n",
       "\n",
       "           meta  recaudacion     estado  \n",
       "40      2396.36       472.88       live  \n",
       "169     6500.00       555.00  undefined  \n",
       "183     5000.00       310.00       live  \n",
       "328     3211.53      3402.08  undefined  \n",
       "458     1159.38       563.32       live  \n",
       "...         ...          ...        ...  \n",
       "378430  5000.00       235.00  undefined  \n",
       "378492 15490.27         0.00       live  \n",
       "378508 30313.01       162.94       live  \n",
       "378581  3080.81      3273.36  undefined  \n",
       "378584  1710.08         0.00  undefined  \n",
       "\n",
       "[6361 rows x 10 columns]"
      ]
     },
     "execution_count": 103,
     "metadata": {},
     "output_type": "execute_result"
    }
   ],
   "source": [
    "dftest"
   ]
  },
  {
   "cell_type": "markdown",
   "metadata": {},
   "source": [
    "### Web Scrapping"
   ]
  },
  {
   "cell_type": "code",
   "execution_count": 5,
   "metadata": {},
   "outputs": [
    {
     "data": {
      "text/plain": [
       "'STREETFIGHTERZ WHEELIE MURICA'"
      ]
     },
     "execution_count": 5,
     "metadata": {},
     "output_type": "execute_result"
    }
   ],
   "source": [
    "undefined = df[df.estado=='undefined']\n",
    "undefined_list = undefined.nombre.tolist()\n",
    "undefined_list[0]"
   ]
  },
  {
   "cell_type": "code",
   "execution_count": 77,
   "metadata": {},
   "outputs": [
    {
     "data": {
      "text/plain": [
       "'The Man in the Field'"
      ]
     },
     "execution_count": 77,
     "metadata": {},
     "output_type": "execute_result"
    }
   ],
   "source": [
    "live = df[df.estado=='live']\n",
    "live_list = live.nombre.tolist()\n",
    "live_list[2]"
   ]
  },
  {
   "cell_type": "code",
   "execution_count": 78,
   "metadata": {},
   "outputs": [
    {
     "name": "stderr",
     "output_type": "stream",
     "text": [
      "[WDM] - Looking for [chromedriver 83.0.4103.39 mac64] driver in cache \n",
      "[WDM] - File found in cache by path [/Users/jaimesolis/.wdm/drivers/chromedriver/83.0.4103.39/mac64/chromedriver]\n"
     ]
    },
    {
     "ename": "NoSuchElementException",
     "evalue": "Message: no such element: Unable to locate element: {\"method\":\"xpath\",\"selector\":\"/html/body/main/div/div/div[1]/div/div/div[5]/div/div[1]/div[1]\"}\n  (Session info: chrome=83.0.4103.61)\n",
     "output_type": "error",
     "traceback": [
      "\u001b[0;31m---------------------------------------------------------------------------\u001b[0m",
      "\u001b[0;31mNoSuchElementException\u001b[0m                    Traceback (most recent call last)",
      "\u001b[0;32m<ipython-input-78-3d19dfaad639>\u001b[0m in \u001b[0;36m<module>\u001b[0;34m\u001b[0m\n\u001b[1;32m     16\u001b[0m \u001b[0menter_project\u001b[0m \u001b[0;34m=\u001b[0m \u001b[0mWebDriverWait\u001b[0m\u001b[0;34m(\u001b[0m\u001b[0mdriver\u001b[0m\u001b[0;34m,\u001b[0m \u001b[0;36m5\u001b[0m\u001b[0;34m)\u001b[0m\u001b[0;34m.\u001b[0m\u001b[0muntil\u001b[0m\u001b[0;34m(\u001b[0m\u001b[0mec\u001b[0m\u001b[0;34m.\u001b[0m\u001b[0mvisibility_of_element_located\u001b[0m\u001b[0;34m(\u001b[0m\u001b[0;34m(\u001b[0m\u001b[0mBy\u001b[0m\u001b[0;34m.\u001b[0m\u001b[0mXPATH\u001b[0m\u001b[0;34m,\u001b[0m \u001b[0;34m'/html/body/div[3]/section/div[1]/div/div/div[2]/ul/li[2]/button'\u001b[0m\u001b[0;34m)\u001b[0m\u001b[0;34m)\u001b[0m\u001b[0;34m)\u001b[0m\u001b[0;34m.\u001b[0m\u001b[0mclick\u001b[0m\u001b[0;34m(\u001b[0m\u001b[0;34m)\u001b[0m\u001b[0;34m\u001b[0m\u001b[0;34m\u001b[0m\u001b[0m\n\u001b[1;32m     17\u001b[0m \u001b[0;34m\u001b[0m\u001b[0m\n\u001b[0;32m---> 18\u001b[0;31m \u001b[0mstate\u001b[0m \u001b[0;34m=\u001b[0m \u001b[0mdriver\u001b[0m\u001b[0;34m.\u001b[0m\u001b[0mfind_element_by_xpath\u001b[0m\u001b[0;34m(\u001b[0m\u001b[0;34m'/html/body/main/div/div/div[1]/div/div/div[5]/div/div[1]/div[1]'\u001b[0m\u001b[0;34m)\u001b[0m\u001b[0;34m.\u001b[0m\u001b[0mget_attribute\u001b[0m\u001b[0;34m(\u001b[0m\u001b[0;34m'innerHTML'\u001b[0m\u001b[0;34m)\u001b[0m\u001b[0;34m\u001b[0m\u001b[0;34m\u001b[0m\u001b[0m\n\u001b[0m\u001b[1;32m     19\u001b[0m \u001b[0;34m\u001b[0m\u001b[0m\n",
      "\u001b[0;32m~/opt/anaconda3/lib/python3.7/site-packages/selenium/webdriver/remote/webdriver.py\u001b[0m in \u001b[0;36mfind_element_by_xpath\u001b[0;34m(self, xpath)\u001b[0m\n\u001b[1;32m    392\u001b[0m             \u001b[0melement\u001b[0m \u001b[0;34m=\u001b[0m \u001b[0mdriver\u001b[0m\u001b[0;34m.\u001b[0m\u001b[0mfind_element_by_xpath\u001b[0m\u001b[0;34m(\u001b[0m\u001b[0;34m'//div/td[1]'\u001b[0m\u001b[0;34m)\u001b[0m\u001b[0;34m\u001b[0m\u001b[0;34m\u001b[0m\u001b[0m\n\u001b[1;32m    393\u001b[0m         \"\"\"\n\u001b[0;32m--> 394\u001b[0;31m         \u001b[0;32mreturn\u001b[0m \u001b[0mself\u001b[0m\u001b[0;34m.\u001b[0m\u001b[0mfind_element\u001b[0m\u001b[0;34m(\u001b[0m\u001b[0mby\u001b[0m\u001b[0;34m=\u001b[0m\u001b[0mBy\u001b[0m\u001b[0;34m.\u001b[0m\u001b[0mXPATH\u001b[0m\u001b[0;34m,\u001b[0m \u001b[0mvalue\u001b[0m\u001b[0;34m=\u001b[0m\u001b[0mxpath\u001b[0m\u001b[0;34m)\u001b[0m\u001b[0;34m\u001b[0m\u001b[0;34m\u001b[0m\u001b[0m\n\u001b[0m\u001b[1;32m    395\u001b[0m \u001b[0;34m\u001b[0m\u001b[0m\n\u001b[1;32m    396\u001b[0m     \u001b[0;32mdef\u001b[0m \u001b[0mfind_elements_by_xpath\u001b[0m\u001b[0;34m(\u001b[0m\u001b[0mself\u001b[0m\u001b[0;34m,\u001b[0m \u001b[0mxpath\u001b[0m\u001b[0;34m)\u001b[0m\u001b[0;34m:\u001b[0m\u001b[0;34m\u001b[0m\u001b[0;34m\u001b[0m\u001b[0m\n",
      "\u001b[0;32m~/opt/anaconda3/lib/python3.7/site-packages/selenium/webdriver/remote/webdriver.py\u001b[0m in \u001b[0;36mfind_element\u001b[0;34m(self, by, value)\u001b[0m\n\u001b[1;32m    976\u001b[0m         return self.execute(Command.FIND_ELEMENT, {\n\u001b[1;32m    977\u001b[0m             \u001b[0;34m'using'\u001b[0m\u001b[0;34m:\u001b[0m \u001b[0mby\u001b[0m\u001b[0;34m,\u001b[0m\u001b[0;34m\u001b[0m\u001b[0;34m\u001b[0m\u001b[0m\n\u001b[0;32m--> 978\u001b[0;31m             'value': value})['value']\n\u001b[0m\u001b[1;32m    979\u001b[0m \u001b[0;34m\u001b[0m\u001b[0m\n\u001b[1;32m    980\u001b[0m     \u001b[0;32mdef\u001b[0m \u001b[0mfind_elements\u001b[0m\u001b[0;34m(\u001b[0m\u001b[0mself\u001b[0m\u001b[0;34m,\u001b[0m \u001b[0mby\u001b[0m\u001b[0;34m=\u001b[0m\u001b[0mBy\u001b[0m\u001b[0;34m.\u001b[0m\u001b[0mID\u001b[0m\u001b[0;34m,\u001b[0m \u001b[0mvalue\u001b[0m\u001b[0;34m=\u001b[0m\u001b[0;32mNone\u001b[0m\u001b[0;34m)\u001b[0m\u001b[0;34m:\u001b[0m\u001b[0;34m\u001b[0m\u001b[0;34m\u001b[0m\u001b[0m\n",
      "\u001b[0;32m~/opt/anaconda3/lib/python3.7/site-packages/selenium/webdriver/remote/webdriver.py\u001b[0m in \u001b[0;36mexecute\u001b[0;34m(self, driver_command, params)\u001b[0m\n\u001b[1;32m    319\u001b[0m         \u001b[0mresponse\u001b[0m \u001b[0;34m=\u001b[0m \u001b[0mself\u001b[0m\u001b[0;34m.\u001b[0m\u001b[0mcommand_executor\u001b[0m\u001b[0;34m.\u001b[0m\u001b[0mexecute\u001b[0m\u001b[0;34m(\u001b[0m\u001b[0mdriver_command\u001b[0m\u001b[0;34m,\u001b[0m \u001b[0mparams\u001b[0m\u001b[0;34m)\u001b[0m\u001b[0;34m\u001b[0m\u001b[0;34m\u001b[0m\u001b[0m\n\u001b[1;32m    320\u001b[0m         \u001b[0;32mif\u001b[0m \u001b[0mresponse\u001b[0m\u001b[0;34m:\u001b[0m\u001b[0;34m\u001b[0m\u001b[0;34m\u001b[0m\u001b[0m\n\u001b[0;32m--> 321\u001b[0;31m             \u001b[0mself\u001b[0m\u001b[0;34m.\u001b[0m\u001b[0merror_handler\u001b[0m\u001b[0;34m.\u001b[0m\u001b[0mcheck_response\u001b[0m\u001b[0;34m(\u001b[0m\u001b[0mresponse\u001b[0m\u001b[0;34m)\u001b[0m\u001b[0;34m\u001b[0m\u001b[0;34m\u001b[0m\u001b[0m\n\u001b[0m\u001b[1;32m    322\u001b[0m             response['value'] = self._unwrap_value(\n\u001b[1;32m    323\u001b[0m                 response.get('value', None))\n",
      "\u001b[0;32m~/opt/anaconda3/lib/python3.7/site-packages/selenium/webdriver/remote/errorhandler.py\u001b[0m in \u001b[0;36mcheck_response\u001b[0;34m(self, response)\u001b[0m\n\u001b[1;32m    240\u001b[0m                 \u001b[0malert_text\u001b[0m \u001b[0;34m=\u001b[0m \u001b[0mvalue\u001b[0m\u001b[0;34m[\u001b[0m\u001b[0;34m'alert'\u001b[0m\u001b[0;34m]\u001b[0m\u001b[0;34m.\u001b[0m\u001b[0mget\u001b[0m\u001b[0;34m(\u001b[0m\u001b[0;34m'text'\u001b[0m\u001b[0;34m)\u001b[0m\u001b[0;34m\u001b[0m\u001b[0;34m\u001b[0m\u001b[0m\n\u001b[1;32m    241\u001b[0m             \u001b[0;32mraise\u001b[0m \u001b[0mexception_class\u001b[0m\u001b[0;34m(\u001b[0m\u001b[0mmessage\u001b[0m\u001b[0;34m,\u001b[0m \u001b[0mscreen\u001b[0m\u001b[0;34m,\u001b[0m \u001b[0mstacktrace\u001b[0m\u001b[0;34m,\u001b[0m \u001b[0malert_text\u001b[0m\u001b[0;34m)\u001b[0m\u001b[0;34m\u001b[0m\u001b[0;34m\u001b[0m\u001b[0m\n\u001b[0;32m--> 242\u001b[0;31m         \u001b[0;32mraise\u001b[0m \u001b[0mexception_class\u001b[0m\u001b[0;34m(\u001b[0m\u001b[0mmessage\u001b[0m\u001b[0;34m,\u001b[0m \u001b[0mscreen\u001b[0m\u001b[0;34m,\u001b[0m \u001b[0mstacktrace\u001b[0m\u001b[0;34m)\u001b[0m\u001b[0;34m\u001b[0m\u001b[0;34m\u001b[0m\u001b[0m\n\u001b[0m\u001b[1;32m    243\u001b[0m \u001b[0;34m\u001b[0m\u001b[0m\n\u001b[1;32m    244\u001b[0m     \u001b[0;32mdef\u001b[0m \u001b[0m_value_or_default\u001b[0m\u001b[0;34m(\u001b[0m\u001b[0mself\u001b[0m\u001b[0;34m,\u001b[0m \u001b[0mobj\u001b[0m\u001b[0;34m,\u001b[0m \u001b[0mkey\u001b[0m\u001b[0;34m,\u001b[0m \u001b[0mdefault\u001b[0m\u001b[0;34m)\u001b[0m\u001b[0;34m:\u001b[0m\u001b[0;34m\u001b[0m\u001b[0;34m\u001b[0m\u001b[0m\n",
      "\u001b[0;31mNoSuchElementException\u001b[0m: Message: no such element: Unable to locate element: {\"method\":\"xpath\",\"selector\":\"/html/body/main/div/div/div[1]/div/div/div[5]/div/div[1]/div[1]\"}\n  (Session info: chrome=83.0.4103.61)\n"
     ]
    }
   ],
   "source": [
    "from selenium import webdriver\n",
    "from webdriver_manager.chrome import ChromeDriverManager\n",
    "from selenium.webdriver.support.ui import WebDriverWait\n",
    "from selenium.webdriver.support import expected_conditions as ec\n",
    "from selenium.webdriver.common.by import By\n",
    "from selenium.common.exceptions import NoSuchElementException\n",
    "\n",
    "driver = webdriver.Chrome(ChromeDriverManager().install())\n",
    "driver.get(\"https://www.kickstarter.com/\")\n",
    "\n",
    "select_currency = driver.find_element_by_xpath('/html/body/div[4]/div/div/div[3]/div/div/div/div/div/section[2]/div/form/select/option[14]').click()\n",
    "continue_btn = WebDriverWait(driver, 1).until(ec.visibility_of_element_located((By.XPATH, '/html/body/div[4]/div/div/div[3]/div/div/div/div/div/section[2]/div/div/div[2]/div/div/div/div/div/div[2]/button'))).click()\n",
    "\n",
    "search_Btn = WebDriverWait(driver, 5).until(ec.visibility_of_element_located((By.XPATH, '/html/body/div[3]/section/section[3]/button'))).click()\n",
    "search_project =driver.find_element_by_xpath('/html/body/div[3]/section/div[1]/div/div/div[1]/input').send_keys(live_list[2])\n",
    "enter_project = WebDriverWait(driver, 5).until(ec.visibility_of_element_located((By.XPATH, '/html/body/div[3]/section/div[1]/div/div/div[2]/ul/li[2]/button'))).click()\n",
    "\n",
    "state = driver.find_element_by_xpath('/html/body/main/div/div/div[1]/div/div/div[5]/div/div[1]/div[1]').get_attribute('innerHTML')\n",
    "\n"
   ]
  },
  {
   "cell_type": "code",
   "execution_count": 64,
   "metadata": {},
   "outputs": [
    {
     "name": "stdout",
     "output_type": "stream",
     "text": [
      "Funding Unsuccessful\n"
     ]
    }
   ],
   "source": [
    "print(state)"
   ]
  },
  {
   "cell_type": "markdown",
   "metadata": {},
   "source": [
    "## Creación de variables"
   ]
  },
  {
   "cell_type": "code",
   "execution_count": 77,
   "metadata": {},
   "outputs": [
    {
     "data": {
      "text/html": [
       "<div>\n",
       "<style scoped>\n",
       "    .dataframe tbody tr th:only-of-type {\n",
       "        vertical-align: middle;\n",
       "    }\n",
       "\n",
       "    .dataframe tbody tr th {\n",
       "        vertical-align: top;\n",
       "    }\n",
       "\n",
       "    .dataframe thead th {\n",
       "        text-align: right;\n",
       "    }\n",
       "</style>\n",
       "<table border=\"1\" class=\"dataframe\">\n",
       "  <thead>\n",
       "    <tr style=\"text-align: right;\">\n",
       "      <th></th>\n",
       "      <th>nombre</th>\n",
       "      <th>categoria</th>\n",
       "      <th>categoria_principal</th>\n",
       "      <th>pais</th>\n",
       "      <th>lanzamiento</th>\n",
       "      <th>deadline</th>\n",
       "      <th>patrocinadores</th>\n",
       "      <th>meta</th>\n",
       "      <th>recaudacion</th>\n",
       "      <th>estado</th>\n",
       "      <th>mes_de_lanzamiento</th>\n",
       "      <th>año_de_lanzamiento</th>\n",
       "      <th>duracion_campaña</th>\n",
       "    </tr>\n",
       "  </thead>\n",
       "  <tbody>\n",
       "    <tr>\n",
       "      <td>0</td>\n",
       "      <td>The Songs of Adelaide &amp; Abullah</td>\n",
       "      <td>Poetry</td>\n",
       "      <td>Publishing</td>\n",
       "      <td>GB</td>\n",
       "      <td>2015-11-08 12:12:00</td>\n",
       "      <td>2015-09-10 00:00:00</td>\n",
       "      <td>0</td>\n",
       "      <td>1533.95</td>\n",
       "      <td>0.00</td>\n",
       "      <td>0</td>\n",
       "      <td>11</td>\n",
       "      <td>2015</td>\n",
       "      <td>-60 days +11:48:00</td>\n",
       "    </tr>\n",
       "    <tr>\n",
       "      <td>1</td>\n",
       "      <td>Greeting From Earth: ZGAC Arts Capsule For ET</td>\n",
       "      <td>Narrative Film</td>\n",
       "      <td>Film &amp; Video</td>\n",
       "      <td>US</td>\n",
       "      <td>2017-02-09 04:43:00</td>\n",
       "      <td>2017-01-11 00:00:00</td>\n",
       "      <td>15</td>\n",
       "      <td>30000.00</td>\n",
       "      <td>2421.00</td>\n",
       "      <td>0</td>\n",
       "      <td>2</td>\n",
       "      <td>2017</td>\n",
       "      <td>-30 days +19:17:00</td>\n",
       "    </tr>\n",
       "    <tr>\n",
       "      <td>2</td>\n",
       "      <td>Where is Hank?</td>\n",
       "      <td>Narrative Film</td>\n",
       "      <td>Film &amp; Video</td>\n",
       "      <td>US</td>\n",
       "      <td>2013-12-01 00:20:00</td>\n",
       "      <td>2013-02-26 00:00:00</td>\n",
       "      <td>3</td>\n",
       "      <td>45000.00</td>\n",
       "      <td>220.00</td>\n",
       "      <td>0</td>\n",
       "      <td>12</td>\n",
       "      <td>2013</td>\n",
       "      <td>-279 days +23:40:00</td>\n",
       "    </tr>\n",
       "    <tr>\n",
       "      <td>3</td>\n",
       "      <td>ToshiCapital Rekordz Needs Help to Complete Album</td>\n",
       "      <td>Music</td>\n",
       "      <td>Music</td>\n",
       "      <td>US</td>\n",
       "      <td>2012-03-17 03:24:00</td>\n",
       "      <td>2012-04-16 00:00:00</td>\n",
       "      <td>1</td>\n",
       "      <td>5000.00</td>\n",
       "      <td>1.00</td>\n",
       "      <td>0</td>\n",
       "      <td>3</td>\n",
       "      <td>2012</td>\n",
       "      <td>29 days 20:36:00</td>\n",
       "    </tr>\n",
       "    <tr>\n",
       "      <td>4</td>\n",
       "      <td>Community Film Project: The Art of Neighborhoo...</td>\n",
       "      <td>Film &amp; Video</td>\n",
       "      <td>Film &amp; Video</td>\n",
       "      <td>US</td>\n",
       "      <td>2015-04-07 08:35:00</td>\n",
       "      <td>2015-08-29 00:00:00</td>\n",
       "      <td>14</td>\n",
       "      <td>19500.00</td>\n",
       "      <td>1283.00</td>\n",
       "      <td>0</td>\n",
       "      <td>4</td>\n",
       "      <td>2015</td>\n",
       "      <td>143 days 15:25:00</td>\n",
       "    </tr>\n",
       "  </tbody>\n",
       "</table>\n",
       "</div>"
      ],
      "text/plain": [
       "                                              nombre       categoria  \\\n",
       "0                    The Songs of Adelaide & Abullah          Poetry   \n",
       "1      Greeting From Earth: ZGAC Arts Capsule For ET  Narrative Film   \n",
       "2                                     Where is Hank?  Narrative Film   \n",
       "3  ToshiCapital Rekordz Needs Help to Complete Album           Music   \n",
       "4  Community Film Project: The Art of Neighborhoo...    Film & Video   \n",
       "\n",
       "  categoria_principal pais          lanzamiento             deadline  \\\n",
       "0          Publishing   GB  2015-11-08 12:12:00  2015-09-10 00:00:00   \n",
       "1        Film & Video   US  2017-02-09 04:43:00  2017-01-11 00:00:00   \n",
       "2        Film & Video   US  2013-12-01 00:20:00  2013-02-26 00:00:00   \n",
       "3               Music   US  2012-03-17 03:24:00  2012-04-16 00:00:00   \n",
       "4        Film & Video   US  2015-04-07 08:35:00  2015-08-29 00:00:00   \n",
       "\n",
       "   patrocinadores     meta  recaudacion  estado  mes_de_lanzamiento  \\\n",
       "0               0  1533.95         0.00       0                  11   \n",
       "1              15 30000.00      2421.00       0                   2   \n",
       "2               3 45000.00       220.00       0                  12   \n",
       "3               1  5000.00         1.00       0                   3   \n",
       "4              14 19500.00      1283.00       0                   4   \n",
       "\n",
       "   año_de_lanzamiento     duracion_campaña  \n",
       "0                2015   -60 days +11:48:00  \n",
       "1                2017   -30 days +19:17:00  \n",
       "2                2013  -279 days +23:40:00  \n",
       "3                2012     29 days 20:36:00  \n",
       "4                2015    143 days 15:25:00  "
      ]
     },
     "execution_count": 77,
     "metadata": {},
     "output_type": "execute_result"
    }
   ],
   "source": [
    "import datetime\n",
    "df['deadline']=pd.to_datetime(df['deadline'])\n",
    "df['lanzamiento']=pd.to_datetime(df['lanzamiento'])\n",
    "df['mes_de_lanzamiento'] = df.lanzamiento.dt.month\n",
    "df['año_de_lanzamiento'] = df.lanzamiento.dt.year\n",
    "df.lanzamiento = df.lanzamiento.dt.date\n",
    "df.deadline = df.deadline.dt.date\n",
    "df['duracion_campaña'] = df.deadline - df.lanzamiento\n",
    "df['duracion_campaña'] = df['duracion_campaña'].astype(object)\n",
    "df['lanzamiento'] = df['lanzamiento'].astype(object)\n",
    "df['deadline'] = df['deadline'].astype(object)\n",
    "df.head()"
   ]
  },
  {
   "cell_type": "code",
   "execution_count": 120,
   "metadata": {},
   "outputs": [
    {
     "data": {
      "text/plain": [
       "nombre                  89731\n",
       "categoria               89731\n",
       "categoria_principal     89731\n",
       "pais                    89731\n",
       "lanzamiento             89731\n",
       "deadline                89731\n",
       "patrocinadores          89731\n",
       "meta                    89731\n",
       "recaudacion             89731\n",
       "estado                  89731\n",
       "mes_de_lanzamiento      89731\n",
       "año_de_lanzamiento      89731\n",
       "duracion_campaña_mes    89731\n",
       "dtype: int64"
      ]
     },
     "execution_count": 120,
     "metadata": {},
     "output_type": "execute_result"
    }
   ],
   "source": [
    "df[df.lanzamiento > df.deadline].count()"
   ]
  },
  {
   "cell_type": "markdown",
   "metadata": {},
   "source": [
    "Con las variables de lanzamiento y deadline, se crearon nuevas variables como mes y año de lanzamiento para facilitar un analisis exploratorio y ademas con las dos primeras se calculó la duración de la camapaña. Como se puede observar se tienen duraciones negativas, las cuales se contabilizaron y nos arrojó 89731 proyectos con duraciones negativas. Esto porque el formato del dataset es YYYY-mm-dd, pero los registros que cuentan con este problema fueron recolectados con el formato YYYY-dd-mm por lo que el siguiente bloque de codigo fue implementado para corregir el error. "
   ]
  },
  {
   "cell_type": "code",
   "execution_count": 79,
   "metadata": {},
   "outputs": [
    {
     "name": "stderr",
     "output_type": "stream",
     "text": [
      "/Users/jaimesolis/opt/anaconda3/lib/python3.7/site-packages/ipykernel_launcher.py:15: SettingWithCopyWarning: \n",
      "A value is trying to be set on a copy of a slice from a DataFrame\n",
      "\n",
      "See the caveats in the documentation: http://pandas.pydata.org/pandas-docs/stable/user_guide/indexing.html#returning-a-view-versus-a-copy\n",
      "  from ipykernel import kernelapp as app\n"
     ]
    },
    {
     "data": {
      "text/html": [
       "<div>\n",
       "<style scoped>\n",
       "    .dataframe tbody tr th:only-of-type {\n",
       "        vertical-align: middle;\n",
       "    }\n",
       "\n",
       "    .dataframe tbody tr th {\n",
       "        vertical-align: top;\n",
       "    }\n",
       "\n",
       "    .dataframe thead th {\n",
       "        text-align: right;\n",
       "    }\n",
       "</style>\n",
       "<table border=\"1\" class=\"dataframe\">\n",
       "  <thead>\n",
       "    <tr style=\"text-align: right;\">\n",
       "      <th></th>\n",
       "      <th>nombre</th>\n",
       "      <th>categoria</th>\n",
       "      <th>categoria_principal</th>\n",
       "      <th>pais</th>\n",
       "      <th>lanzamiento</th>\n",
       "      <th>deadline</th>\n",
       "      <th>patrocinadores</th>\n",
       "      <th>meta</th>\n",
       "      <th>recaudacion</th>\n",
       "      <th>estado</th>\n",
       "      <th>mes_de_lanzamiento</th>\n",
       "      <th>año_de_lanzamiento</th>\n",
       "      <th>duracion_campaña</th>\n",
       "    </tr>\n",
       "  </thead>\n",
       "  <tbody>\n",
       "    <tr>\n",
       "      <td>0</td>\n",
       "      <td>The Songs of Adelaide &amp; Abullah</td>\n",
       "      <td>Poetry</td>\n",
       "      <td>Publishing</td>\n",
       "      <td>GB</td>\n",
       "      <td>2015-11-08</td>\n",
       "      <td>2015-09-10</td>\n",
       "      <td>0</td>\n",
       "      <td>1533.95</td>\n",
       "      <td>0.00</td>\n",
       "      <td>0</td>\n",
       "      <td>11</td>\n",
       "      <td>2015</td>\n",
       "      <td>59</td>\n",
       "    </tr>\n",
       "    <tr>\n",
       "      <td>1</td>\n",
       "      <td>Greeting From Earth: ZGAC Arts Capsule For ET</td>\n",
       "      <td>Narrative Film</td>\n",
       "      <td>Film &amp; Video</td>\n",
       "      <td>US</td>\n",
       "      <td>2017-02-09</td>\n",
       "      <td>2017-01-11</td>\n",
       "      <td>15</td>\n",
       "      <td>30000.00</td>\n",
       "      <td>2421.00</td>\n",
       "      <td>0</td>\n",
       "      <td>2</td>\n",
       "      <td>2017</td>\n",
       "      <td>29</td>\n",
       "    </tr>\n",
       "    <tr>\n",
       "      <td>2</td>\n",
       "      <td>Where is Hank?</td>\n",
       "      <td>Narrative Film</td>\n",
       "      <td>Film &amp; Video</td>\n",
       "      <td>US</td>\n",
       "      <td>2013-12-01</td>\n",
       "      <td>2013-02-26</td>\n",
       "      <td>3</td>\n",
       "      <td>45000.00</td>\n",
       "      <td>220.00</td>\n",
       "      <td>0</td>\n",
       "      <td>12</td>\n",
       "      <td>2013</td>\n",
       "      <td>278</td>\n",
       "    </tr>\n",
       "    <tr>\n",
       "      <td>3</td>\n",
       "      <td>ToshiCapital Rekordz Needs Help to Complete Album</td>\n",
       "      <td>Music</td>\n",
       "      <td>Music</td>\n",
       "      <td>US</td>\n",
       "      <td>2012-03-17</td>\n",
       "      <td>2012-04-16</td>\n",
       "      <td>1</td>\n",
       "      <td>5000.00</td>\n",
       "      <td>1.00</td>\n",
       "      <td>0</td>\n",
       "      <td>3</td>\n",
       "      <td>2012</td>\n",
       "      <td>30</td>\n",
       "    </tr>\n",
       "    <tr>\n",
       "      <td>4</td>\n",
       "      <td>Community Film Project: The Art of Neighborhoo...</td>\n",
       "      <td>Film &amp; Video</td>\n",
       "      <td>Film &amp; Video</td>\n",
       "      <td>US</td>\n",
       "      <td>2015-04-07</td>\n",
       "      <td>2015-08-29</td>\n",
       "      <td>14</td>\n",
       "      <td>19500.00</td>\n",
       "      <td>1283.00</td>\n",
       "      <td>0</td>\n",
       "      <td>4</td>\n",
       "      <td>2015</td>\n",
       "      <td>144</td>\n",
       "    </tr>\n",
       "  </tbody>\n",
       "</table>\n",
       "</div>"
      ],
      "text/plain": [
       "                                              nombre       categoria  \\\n",
       "0                    The Songs of Adelaide & Abullah          Poetry   \n",
       "1      Greeting From Earth: ZGAC Arts Capsule For ET  Narrative Film   \n",
       "2                                     Where is Hank?  Narrative Film   \n",
       "3  ToshiCapital Rekordz Needs Help to Complete Album           Music   \n",
       "4  Community Film Project: The Art of Neighborhoo...    Film & Video   \n",
       "\n",
       "  categoria_principal pais lanzamiento   deadline  patrocinadores     meta  \\\n",
       "0          Publishing   GB  2015-11-08 2015-09-10               0  1533.95   \n",
       "1        Film & Video   US  2017-02-09 2017-01-11              15 30000.00   \n",
       "2        Film & Video   US  2013-12-01 2013-02-26               3 45000.00   \n",
       "3               Music   US  2012-03-17 2012-04-16               1  5000.00   \n",
       "4        Film & Video   US  2015-04-07 2015-08-29              14 19500.00   \n",
       "\n",
       "   recaudacion  estado  mes_de_lanzamiento  año_de_lanzamiento  \\\n",
       "0         0.00       0                  11                2015   \n",
       "1      2421.00       0                   2                2017   \n",
       "2       220.00       0                  12                2013   \n",
       "3         1.00       0                   3                2012   \n",
       "4      1283.00       0                   4                2015   \n",
       "\n",
       "  duracion_campaña  \n",
       "0               59  \n",
       "1               29  \n",
       "2              278  \n",
       "3               30  \n",
       "4              144  "
      ]
     },
     "execution_count": 79,
     "metadata": {},
     "output_type": "execute_result"
    }
   ],
   "source": [
    "df = pd.read_csv('https://raw.githubusercontent.com/JaimeSolisS/IBM-Data-Challenge/master/Datasets/corregir_fechas.csv')\n",
    "df.lanzamiento = pd.to_datetime(df.lanzamiento)\n",
    "df.deadline=pd.to_datetime(df.deadline)\n",
    "\n",
    "from datetime import datetime, timedelta\n",
    "from dateutil.relativedelta import relativedelta\n",
    "import time\n",
    "from datetime import date, datetime, timedelta\n",
    "def days_between(d1, d2):\n",
    "    d1 = datetime.strptime(d1, \"%Y-%m-%d %H:%M:%S\")\n",
    "    d2 = datetime.strptime(d2, \"%Y-%m-%d %H:%M:%S\")\n",
    "    return abs((d2 - d1).days)\n",
    "for i in range(0,len(df)):\n",
    "    d=days_between(str(df.lanzamiento[i]),str(df.deadline[i]))\n",
    "    df.duracion_campaña[i]=d\n",
    "df.head()"
   ]
  },
  {
   "cell_type": "code",
   "execution_count": 80,
   "metadata": {},
   "outputs": [],
   "source": [
    "df.to_csv('Datasets/formato_fecha_corregido.csv', index=False)"
   ]
  },
  {
   "cell_type": "code",
   "execution_count": 83,
   "metadata": {},
   "outputs": [
    {
     "data": {
      "text/html": [
       "<div>\n",
       "<style scoped>\n",
       "    .dataframe tbody tr th:only-of-type {\n",
       "        vertical-align: middle;\n",
       "    }\n",
       "\n",
       "    .dataframe tbody tr th {\n",
       "        vertical-align: top;\n",
       "    }\n",
       "\n",
       "    .dataframe thead th {\n",
       "        text-align: right;\n",
       "    }\n",
       "</style>\n",
       "<table border=\"1\" class=\"dataframe\">\n",
       "  <thead>\n",
       "    <tr style=\"text-align: right;\">\n",
       "      <th></th>\n",
       "      <th>nombre</th>\n",
       "      <th>categoria</th>\n",
       "      <th>categoria_principal</th>\n",
       "      <th>pais</th>\n",
       "      <th>lanzamiento</th>\n",
       "      <th>deadline</th>\n",
       "      <th>patrocinadores</th>\n",
       "      <th>meta</th>\n",
       "      <th>recaudacion</th>\n",
       "      <th>estado</th>\n",
       "      <th>mes_de_lanzamiento</th>\n",
       "      <th>año_de_lanzamiento</th>\n",
       "      <th>duracion_campaña</th>\n",
       "    </tr>\n",
       "  </thead>\n",
       "  <tbody>\n",
       "  </tbody>\n",
       "</table>\n",
       "</div>"
      ],
      "text/plain": [
       "Empty DataFrame\n",
       "Columns: [nombre, categoria, categoria_principal, pais, lanzamiento, deadline, patrocinadores, meta, recaudacion, estado, mes_de_lanzamiento, año_de_lanzamiento, duracion_campaña]\n",
       "Index: []"
      ]
     },
     "execution_count": 83,
     "metadata": {},
     "output_type": "execute_result"
    }
   ],
   "source": [
    "df[df.duracion_campaña<0]"
   ]
  },
  {
   "cell_type": "markdown",
   "metadata": {},
   "source": [
    "Ya no hay campañas con duración negativa"
   ]
  },
  {
   "cell_type": "code",
   "execution_count": 84,
   "metadata": {
    "scrolled": true
   },
   "outputs": [
    {
     "name": "stderr",
     "output_type": "stream",
     "text": [
      "/Users/jaimesolis/opt/anaconda3/lib/python3.7/site-packages/ipykernel_launcher.py:19: SettingWithCopyWarning: \n",
      "A value is trying to be set on a copy of a slice from a DataFrame\n",
      "\n",
      "See the caveats in the documentation: http://pandas.pydata.org/pandas-docs/stable/user_guide/indexing.html#returning-a-view-versus-a-copy\n",
      "/Users/jaimesolis/opt/anaconda3/lib/python3.7/site-packages/ipykernel_launcher.py:20: SettingWithCopyWarning: \n",
      "A value is trying to be set on a copy of a slice from a DataFrame\n",
      "\n",
      "See the caveats in the documentation: http://pandas.pydata.org/pandas-docs/stable/user_guide/indexing.html#returning-a-view-versus-a-copy\n",
      "/Users/jaimesolis/opt/anaconda3/lib/python3.7/site-packages/pandas/core/indexing.py:205: SettingWithCopyWarning: \n",
      "A value is trying to be set on a copy of a slice from a DataFrame\n",
      "\n",
      "See the caveats in the documentation: http://pandas.pydata.org/pandas-docs/stable/user_guide/indexing.html#returning-a-view-versus-a-copy\n",
      "  self._setitem_with_indexer(indexer, value)\n",
      "/Users/jaimesolis/opt/anaconda3/lib/python3.7/site-packages/ipykernel_launcher.py:22: SettingWithCopyWarning: \n",
      "A value is trying to be set on a copy of a slice from a DataFrame\n",
      "\n",
      "See the caveats in the documentation: http://pandas.pydata.org/pandas-docs/stable/user_guide/indexing.html#returning-a-view-versus-a-copy\n",
      "/Users/jaimesolis/opt/anaconda3/lib/python3.7/site-packages/ipykernel_launcher.py:23: SettingWithCopyWarning: \n",
      "A value is trying to be set on a copy of a slice from a DataFrame\n",
      "\n",
      "See the caveats in the documentation: http://pandas.pydata.org/pandas-docs/stable/user_guide/indexing.html#returning-a-view-versus-a-copy\n",
      "/Users/jaimesolis/opt/anaconda3/lib/python3.7/site-packages/ipykernel_launcher.py:13: SettingWithCopyWarning: \n",
      "A value is trying to be set on a copy of a slice from a DataFrame\n",
      "\n",
      "See the caveats in the documentation: http://pandas.pydata.org/pandas-docs/stable/user_guide/indexing.html#returning-a-view-versus-a-copy\n",
      "  del sys.path[0]\n",
      "/Users/jaimesolis/opt/anaconda3/lib/python3.7/site-packages/ipykernel_launcher.py:14: SettingWithCopyWarning: \n",
      "A value is trying to be set on a copy of a slice from a DataFrame\n",
      "\n",
      "See the caveats in the documentation: http://pandas.pydata.org/pandas-docs/stable/user_guide/indexing.html#returning-a-view-versus-a-copy\n",
      "  \n",
      "/Users/jaimesolis/opt/anaconda3/lib/python3.7/site-packages/ipykernel_launcher.py:16: SettingWithCopyWarning: \n",
      "A value is trying to be set on a copy of a slice from a DataFrame\n",
      "\n",
      "See the caveats in the documentation: http://pandas.pydata.org/pandas-docs/stable/user_guide/indexing.html#returning-a-view-versus-a-copy\n",
      "  app.launch_new_instance()\n",
      "/Users/jaimesolis/opt/anaconda3/lib/python3.7/site-packages/ipykernel_launcher.py:17: SettingWithCopyWarning: \n",
      "A value is trying to be set on a copy of a slice from a DataFrame\n",
      "\n",
      "See the caveats in the documentation: http://pandas.pydata.org/pandas-docs/stable/user_guide/indexing.html#returning-a-view-versus-a-copy\n"
     ]
    },
    {
     "data": {
      "text/plain": [
       "Verano       96640\n",
       "Primavera    93417\n",
       "Otoño        91336\n",
       "Invierno     89058\n",
       "Name: temporada, dtype: int64"
      ]
     },
     "execution_count": 84,
     "metadata": {},
     "output_type": "execute_result"
    }
   ],
   "source": [
    "import datetime, time\n",
    "df['primavera']=0\n",
    "df['verano']=0\n",
    "df['otono']=0\n",
    "df['invierno']=0\n",
    "df['temporada']=0\n",
    "spring = range(80, 172)\n",
    "summer = range(172, 264)\n",
    "fall = range(264, 355)\n",
    "# winter = everything else\n",
    "for i in range(0,len(df)):\n",
    "    if df.lanzamiento[i].timetuple().tm_yday in spring:\n",
    "        df['primavera'][i]=1\n",
    "        df['temporada'][i]='Primavera'\n",
    "    elif df.lanzamiento[i].timetuple().tm_yday in summer:\n",
    "        df['verano'][i]=1\n",
    "        df['temporada'][i]='Verano'  \n",
    "    elif df.lanzamiento[i].timetuple().tm_yday in fall:\n",
    "        df['otono'][i]=1\n",
    "        df['temporada'][i]='Otoño'\n",
    "    else:\n",
    "        df['invierno'][i]=1\n",
    "        df['temporada'][i]='Invierno'\n",
    "df.temporada.value_counts()"
   ]
  },
  {
   "cell_type": "code",
   "execution_count": 85,
   "metadata": {},
   "outputs": [],
   "source": [
    "df.to_csv('Datasets/kickstarter_with_seasons.csv', index=False)"
   ]
  },
  {
   "cell_type": "code",
   "execution_count": 3,
   "metadata": {},
   "outputs": [],
   "source": [
    "df = pd.read_csv('Datasets/kickstarter_with_seasons.csv')"
   ]
  },
  {
   "cell_type": "code",
   "execution_count": 9,
   "metadata": {},
   "outputs": [],
   "source": [
    "df['duracion_campaña'] = df['duracion_campaña'].astype(int)\n",
    "df.lanzamiento = pd.to_datetime(df.lanzamiento)"
   ]
  },
  {
   "cell_type": "markdown",
   "metadata": {},
   "source": [
    "Adicionalmente, se creó la variable temporada dependiendo de la fecha de inicio de la campaña y como es una variable categórica, se crearon cuatro variables dummy para que puedan ser procesados por los algoritmos de clasificación. Esto tendrá que realizarse de igual manera con el resto de las variables categóricas.  "
   ]
  },
  {
   "cell_type": "markdown",
   "metadata": {},
   "source": [
    "### One Hot Encoding"
   ]
  },
  {
   "cell_type": "code",
   "execution_count": 8,
   "metadata": {},
   "outputs": [
    {
     "data": {
      "text/plain": [
       "nombre                  object\n",
       "categoria               object\n",
       "categoria_principal     object\n",
       "pais                    object\n",
       "lanzamiento             object\n",
       "deadline                object\n",
       "patrocinadores           int64\n",
       "meta                   float64\n",
       "recaudacion            float64\n",
       "estado                   int64\n",
       "mes_de_lanzamiento       int64\n",
       "año_de_lanzamiento       int64\n",
       "duracion_campaña         int64\n",
       "primavera                int64\n",
       "verano                   int64\n",
       "otono                    int64\n",
       "invierno                 int64\n",
       "temporada               object\n",
       "mes                      int64\n",
       "dtype: object"
      ]
     },
     "execution_count": 8,
     "metadata": {},
     "output_type": "execute_result"
    }
   ],
   "source": [
    "df.dtypes"
   ]
  },
  {
   "cell_type": "code",
   "execution_count": 10,
   "metadata": {},
   "outputs": [
    {
     "name": "stderr",
     "output_type": "stream",
     "text": [
      "/Users/jaimesolis/opt/anaconda3/lib/python3.7/site-packages/ipykernel_launcher.py:3: SettingWithCopyWarning: \n",
      "A value is trying to be set on a copy of a slice from a DataFrame\n",
      "\n",
      "See the caveats in the documentation: http://pandas.pydata.org/pandas-docs/stable/user_guide/indexing.html#returning-a-view-versus-a-copy\n",
      "  This is separate from the ipykernel package so we can avoid doing imports until\n"
     ]
    }
   ],
   "source": [
    "df['mes']=0\n",
    "for i in range(0,len(df)):\n",
    "    df['mes'][i]=df['lanzamiento'][i].month\n",
    "df['Mes']=df['mes']\n",
    "df=pd.get_dummies(df, columns=[\"mes\"])"
   ]
  },
  {
   "cell_type": "code",
   "execution_count": null,
   "metadata": {},
   "outputs": [],
   "source": [
    "df.lanzamiento = pd.to_datetime(df.lanzamiento,format='%Y%m%d', errors='coerce')\n"
   ]
  },
  {
   "cell_type": "code",
   "execution_count": 12,
   "metadata": {},
   "outputs": [],
   "source": [
    "df['Pais']=df['pais']\n",
    "df=pd.get_dummies(df, columns=['pais'])\n",
    "df['Categoria']=df['categoria_principal']\n",
    "df=pd.get_dummies(df, columns=['categoria_principal'])"
   ]
  },
  {
   "cell_type": "code",
   "execution_count": 13,
   "metadata": {},
   "outputs": [
    {
     "data": {
      "text/plain": [
       "Index(['nombre', 'categoria', 'lanzamiento', 'deadline', 'patrocinadores',\n",
       "       'meta', 'recaudacion', 'estado', 'mes_de_lanzamiento',\n",
       "       'año_de_lanzamiento', 'duracion_campaña', 'primavera', 'verano',\n",
       "       'otono', 'invierno', 'temporada', 'Mes', 'mes_1', 'mes_2', 'mes_3',\n",
       "       'mes_4', 'mes_5', 'mes_6', 'mes_7', 'mes_8', 'mes_9', 'mes_10',\n",
       "       'mes_11', 'mes_12', 'Pais', 'pais_AT', 'pais_AU', 'pais_BE', 'pais_CA',\n",
       "       'pais_CH', 'pais_DE', 'pais_DK', 'pais_ES', 'pais_FR', 'pais_GB',\n",
       "       'pais_HK', 'pais_IE', 'pais_IT', 'pais_JP', 'pais_LU', 'pais_MX',\n",
       "       'pais_N,0\"', 'pais_NL', 'pais_NO', 'pais_NZ', 'pais_SE', 'pais_SG',\n",
       "       'pais_US', 'Categoria', 'categoria_principal_Art',\n",
       "       'categoria_principal_Comics', 'categoria_principal_Crafts',\n",
       "       'categoria_principal_Dance', 'categoria_principal_Design',\n",
       "       'categoria_principal_Fashion', 'categoria_principal_Film & Video',\n",
       "       'categoria_principal_Food', 'categoria_principal_Games',\n",
       "       'categoria_principal_Journalism', 'categoria_principal_Music',\n",
       "       'categoria_principal_Photography', 'categoria_principal_Publishing',\n",
       "       'categoria_principal_Technology', 'categoria_principal_Theater'],\n",
       "      dtype='object')"
      ]
     },
     "execution_count": 13,
     "metadata": {},
     "output_type": "execute_result"
    }
   ],
   "source": []
  },
  {
   "cell_type": "code",
   "execution_count": 14,
   "metadata": {},
   "outputs": [],
   "source": [
    "df.to_csv('Datasets/kickstarter_ML.csv', index=False)"
   ]
  },
  {
   "cell_type": "markdown",
   "metadata": {},
   "source": [
    "# Análisis Exploratorio"
   ]
  },
  {
   "cell_type": "code",
   "execution_count": 116,
   "metadata": {},
   "outputs": [
    {
     "data": {
      "text/html": [
       "<div>\n",
       "<style scoped>\n",
       "    .dataframe tbody tr th:only-of-type {\n",
       "        vertical-align: middle;\n",
       "    }\n",
       "\n",
       "    .dataframe tbody tr th {\n",
       "        vertical-align: top;\n",
       "    }\n",
       "\n",
       "    .dataframe thead th {\n",
       "        text-align: right;\n",
       "    }\n",
       "</style>\n",
       "<table border=\"1\" class=\"dataframe\">\n",
       "  <thead>\n",
       "    <tr style=\"text-align: right;\">\n",
       "      <th></th>\n",
       "      <th>nombre</th>\n",
       "      <th>categoria</th>\n",
       "      <th>categoria_principal</th>\n",
       "      <th>pais</th>\n",
       "      <th>lanzamiento</th>\n",
       "      <th>deadline</th>\n",
       "      <th>patrocinadores</th>\n",
       "      <th>meta</th>\n",
       "      <th>recaudacion</th>\n",
       "      <th>estado</th>\n",
       "      <th>mes_de_lanzamiento</th>\n",
       "      <th>año_de_lanzamiento</th>\n",
       "      <th>duracion_campaña</th>\n",
       "      <th>primavera</th>\n",
       "      <th>verano</th>\n",
       "      <th>otono</th>\n",
       "      <th>invierno</th>\n",
       "      <th>temporada</th>\n",
       "    </tr>\n",
       "  </thead>\n",
       "  <tbody>\n",
       "    <tr>\n",
       "      <td>0</td>\n",
       "      <td>The Songs of Adelaide &amp; Abullah</td>\n",
       "      <td>Poetry</td>\n",
       "      <td>Publishing</td>\n",
       "      <td>GB</td>\n",
       "      <td>2015-11-08</td>\n",
       "      <td>2015-09-10</td>\n",
       "      <td>0</td>\n",
       "      <td>1533.95</td>\n",
       "      <td>0.00</td>\n",
       "      <td>0</td>\n",
       "      <td>11</td>\n",
       "      <td>2015</td>\n",
       "      <td>59</td>\n",
       "      <td>0</td>\n",
       "      <td>0</td>\n",
       "      <td>1</td>\n",
       "      <td>0</td>\n",
       "      <td>Otoño</td>\n",
       "    </tr>\n",
       "    <tr>\n",
       "      <td>1</td>\n",
       "      <td>Greeting From Earth: ZGAC Arts Capsule For ET</td>\n",
       "      <td>Narrative Film</td>\n",
       "      <td>Film &amp; Video</td>\n",
       "      <td>US</td>\n",
       "      <td>2017-02-09</td>\n",
       "      <td>2017-01-11</td>\n",
       "      <td>15</td>\n",
       "      <td>30000.00</td>\n",
       "      <td>2421.00</td>\n",
       "      <td>0</td>\n",
       "      <td>2</td>\n",
       "      <td>2017</td>\n",
       "      <td>29</td>\n",
       "      <td>0</td>\n",
       "      <td>0</td>\n",
       "      <td>0</td>\n",
       "      <td>1</td>\n",
       "      <td>Invierno</td>\n",
       "    </tr>\n",
       "    <tr>\n",
       "      <td>2</td>\n",
       "      <td>Where is Hank?</td>\n",
       "      <td>Narrative Film</td>\n",
       "      <td>Film &amp; Video</td>\n",
       "      <td>US</td>\n",
       "      <td>2013-12-01</td>\n",
       "      <td>2013-02-26</td>\n",
       "      <td>3</td>\n",
       "      <td>45000.00</td>\n",
       "      <td>220.00</td>\n",
       "      <td>0</td>\n",
       "      <td>12</td>\n",
       "      <td>2013</td>\n",
       "      <td>278</td>\n",
       "      <td>0</td>\n",
       "      <td>0</td>\n",
       "      <td>1</td>\n",
       "      <td>0</td>\n",
       "      <td>Otoño</td>\n",
       "    </tr>\n",
       "    <tr>\n",
       "      <td>3</td>\n",
       "      <td>ToshiCapital Rekordz Needs Help to Complete Album</td>\n",
       "      <td>Music</td>\n",
       "      <td>Music</td>\n",
       "      <td>US</td>\n",
       "      <td>2012-03-17</td>\n",
       "      <td>2012-04-16</td>\n",
       "      <td>1</td>\n",
       "      <td>5000.00</td>\n",
       "      <td>1.00</td>\n",
       "      <td>0</td>\n",
       "      <td>3</td>\n",
       "      <td>2012</td>\n",
       "      <td>30</td>\n",
       "      <td>0</td>\n",
       "      <td>0</td>\n",
       "      <td>0</td>\n",
       "      <td>1</td>\n",
       "      <td>Invierno</td>\n",
       "    </tr>\n",
       "    <tr>\n",
       "      <td>4</td>\n",
       "      <td>Community Film Project: The Art of Neighborhoo...</td>\n",
       "      <td>Film &amp; Video</td>\n",
       "      <td>Film &amp; Video</td>\n",
       "      <td>US</td>\n",
       "      <td>2015-04-07</td>\n",
       "      <td>2015-08-29</td>\n",
       "      <td>14</td>\n",
       "      <td>19500.00</td>\n",
       "      <td>1283.00</td>\n",
       "      <td>0</td>\n",
       "      <td>4</td>\n",
       "      <td>2015</td>\n",
       "      <td>144</td>\n",
       "      <td>1</td>\n",
       "      <td>0</td>\n",
       "      <td>0</td>\n",
       "      <td>0</td>\n",
       "      <td>Primavera</td>\n",
       "    </tr>\n",
       "    <tr>\n",
       "      <td>...</td>\n",
       "      <td>...</td>\n",
       "      <td>...</td>\n",
       "      <td>...</td>\n",
       "      <td>...</td>\n",
       "      <td>...</td>\n",
       "      <td>...</td>\n",
       "      <td>...</td>\n",
       "      <td>...</td>\n",
       "      <td>...</td>\n",
       "      <td>...</td>\n",
       "      <td>...</td>\n",
       "      <td>...</td>\n",
       "      <td>...</td>\n",
       "      <td>...</td>\n",
       "      <td>...</td>\n",
       "      <td>...</td>\n",
       "      <td>...</td>\n",
       "      <td>...</td>\n",
       "    </tr>\n",
       "    <tr>\n",
       "      <td>370446</td>\n",
       "      <td>ChknTruk Nationwide Charity Drive 2014 (Canceled)</td>\n",
       "      <td>Documentary</td>\n",
       "      <td>Film &amp; Video</td>\n",
       "      <td>US</td>\n",
       "      <td>2014-09-17</td>\n",
       "      <td>2014-10-17</td>\n",
       "      <td>1</td>\n",
       "      <td>50000.00</td>\n",
       "      <td>25.00</td>\n",
       "      <td>0</td>\n",
       "      <td>9</td>\n",
       "      <td>2014</td>\n",
       "      <td>30</td>\n",
       "      <td>0</td>\n",
       "      <td>1</td>\n",
       "      <td>0</td>\n",
       "      <td>0</td>\n",
       "      <td>Verano</td>\n",
       "    </tr>\n",
       "    <tr>\n",
       "      <td>370447</td>\n",
       "      <td>The Tribe</td>\n",
       "      <td>Narrative Film</td>\n",
       "      <td>Film &amp; Video</td>\n",
       "      <td>US</td>\n",
       "      <td>2011-06-22</td>\n",
       "      <td>2011-07-19</td>\n",
       "      <td>5</td>\n",
       "      <td>1500.00</td>\n",
       "      <td>155.00</td>\n",
       "      <td>0</td>\n",
       "      <td>6</td>\n",
       "      <td>2011</td>\n",
       "      <td>27</td>\n",
       "      <td>0</td>\n",
       "      <td>1</td>\n",
       "      <td>0</td>\n",
       "      <td>0</td>\n",
       "      <td>Verano</td>\n",
       "    </tr>\n",
       "    <tr>\n",
       "      <td>370448</td>\n",
       "      <td>Walls of Remedy- New lesbian Romantic Comedy f...</td>\n",
       "      <td>Narrative Film</td>\n",
       "      <td>Film &amp; Video</td>\n",
       "      <td>US</td>\n",
       "      <td>2010-01-07</td>\n",
       "      <td>2010-08-16</td>\n",
       "      <td>1</td>\n",
       "      <td>15000.00</td>\n",
       "      <td>20.00</td>\n",
       "      <td>0</td>\n",
       "      <td>1</td>\n",
       "      <td>2010</td>\n",
       "      <td>221</td>\n",
       "      <td>0</td>\n",
       "      <td>0</td>\n",
       "      <td>0</td>\n",
       "      <td>1</td>\n",
       "      <td>Invierno</td>\n",
       "    </tr>\n",
       "    <tr>\n",
       "      <td>370449</td>\n",
       "      <td>BioDefense Education Kit</td>\n",
       "      <td>Technology</td>\n",
       "      <td>Technology</td>\n",
       "      <td>US</td>\n",
       "      <td>2016-01-13</td>\n",
       "      <td>2016-02-13</td>\n",
       "      <td>6</td>\n",
       "      <td>15000.00</td>\n",
       "      <td>200.00</td>\n",
       "      <td>0</td>\n",
       "      <td>1</td>\n",
       "      <td>2016</td>\n",
       "      <td>31</td>\n",
       "      <td>0</td>\n",
       "      <td>0</td>\n",
       "      <td>0</td>\n",
       "      <td>1</td>\n",
       "      <td>Invierno</td>\n",
       "    </tr>\n",
       "    <tr>\n",
       "      <td>370450</td>\n",
       "      <td>Nou Renmen Ayiti!  We Love Haiti!</td>\n",
       "      <td>Performance Art</td>\n",
       "      <td>Art</td>\n",
       "      <td>US</td>\n",
       "      <td>2011-07-19</td>\n",
       "      <td>2011-08-16</td>\n",
       "      <td>17</td>\n",
       "      <td>2000.00</td>\n",
       "      <td>524.00</td>\n",
       "      <td>0</td>\n",
       "      <td>7</td>\n",
       "      <td>2011</td>\n",
       "      <td>28</td>\n",
       "      <td>0</td>\n",
       "      <td>1</td>\n",
       "      <td>0</td>\n",
       "      <td>0</td>\n",
       "      <td>Verano</td>\n",
       "    </tr>\n",
       "  </tbody>\n",
       "</table>\n",
       "<p>370445 rows × 18 columns</p>\n",
       "</div>"
      ],
      "text/plain": [
       "                                                   nombre        categoria  \\\n",
       "0                         The Songs of Adelaide & Abullah           Poetry   \n",
       "1           Greeting From Earth: ZGAC Arts Capsule For ET   Narrative Film   \n",
       "2                                          Where is Hank?   Narrative Film   \n",
       "3       ToshiCapital Rekordz Needs Help to Complete Album            Music   \n",
       "4       Community Film Project: The Art of Neighborhoo...     Film & Video   \n",
       "...                                                   ...              ...   \n",
       "370446  ChknTruk Nationwide Charity Drive 2014 (Canceled)      Documentary   \n",
       "370447                                          The Tribe   Narrative Film   \n",
       "370448  Walls of Remedy- New lesbian Romantic Comedy f...   Narrative Film   \n",
       "370449                           BioDefense Education Kit       Technology   \n",
       "370450                  Nou Renmen Ayiti!  We Love Haiti!  Performance Art   \n",
       "\n",
       "       categoria_principal pais lanzamiento    deadline  patrocinadores  \\\n",
       "0               Publishing   GB  2015-11-08  2015-09-10               0   \n",
       "1             Film & Video   US  2017-02-09  2017-01-11              15   \n",
       "2             Film & Video   US  2013-12-01  2013-02-26               3   \n",
       "3                    Music   US  2012-03-17  2012-04-16               1   \n",
       "4             Film & Video   US  2015-04-07  2015-08-29              14   \n",
       "...                    ...  ...         ...         ...             ...   \n",
       "370446        Film & Video   US  2014-09-17  2014-10-17               1   \n",
       "370447        Film & Video   US  2011-06-22  2011-07-19               5   \n",
       "370448        Film & Video   US  2010-01-07  2010-08-16               1   \n",
       "370449          Technology   US  2016-01-13  2016-02-13               6   \n",
       "370450                 Art   US  2011-07-19  2011-08-16              17   \n",
       "\n",
       "           meta  recaudacion  estado  mes_de_lanzamiento  año_de_lanzamiento  \\\n",
       "0       1533.95         0.00       0                  11                2015   \n",
       "1      30000.00      2421.00       0                   2                2017   \n",
       "2      45000.00       220.00       0                  12                2013   \n",
       "3       5000.00         1.00       0                   3                2012   \n",
       "4      19500.00      1283.00       0                   4                2015   \n",
       "...         ...          ...     ...                 ...                 ...   \n",
       "370446 50000.00        25.00       0                   9                2014   \n",
       "370447  1500.00       155.00       0                   6                2011   \n",
       "370448 15000.00        20.00       0                   1                2010   \n",
       "370449 15000.00       200.00       0                   1                2016   \n",
       "370450  2000.00       524.00       0                   7                2011   \n",
       "\n",
       "        duracion_campaña  primavera  verano  otono  invierno  temporada  \n",
       "0                     59          0       0      1         0      Otoño  \n",
       "1                     29          0       0      0         1   Invierno  \n",
       "2                    278          0       0      1         0      Otoño  \n",
       "3                     30          0       0      0         1   Invierno  \n",
       "4                    144          1       0      0         0  Primavera  \n",
       "...                  ...        ...     ...    ...       ...        ...  \n",
       "370446                30          0       1      0         0     Verano  \n",
       "370447                27          0       1      0         0     Verano  \n",
       "370448               221          0       0      0         1   Invierno  \n",
       "370449                31          0       0      0         1   Invierno  \n",
       "370450                28          0       1      0         0     Verano  \n",
       "\n",
       "[370445 rows x 18 columns]"
      ]
     },
     "execution_count": 116,
     "metadata": {},
     "output_type": "execute_result"
    }
   ],
   "source": [
    "df = df[df.año_de_lanzamiento != 1970]"
   ]
  },
  {
   "cell_type": "code",
   "execution_count": 19,
   "metadata": {},
   "outputs": [],
   "source": [
    "df_EDA = df_EDA.drop(columns=['lanzamiento','deadline','primavera', 'verano', 'otono', 'invierno'])\n",
    "df_EDA = df_EDA.rename(columns={\"estado\": \"exito\"})\n",
    "#df_EDA.head()\n",
    "#df_EDA.to_csv('Datasets/kickstarter_EDA.csv', index=False)"
   ]
  },
  {
   "cell_type": "code",
   "execution_count": 20,
   "metadata": {},
   "outputs": [
    {
     "data": {
      "text/plain": [
       "Index(['nombre', 'categoria', 'categoria_principal', 'pais', 'patrocinadores',\n",
       "       'meta', 'recaudacion', 'exito', 'mes_de_lanzamiento',\n",
       "       'año_de_lanzamiento', 'duracion_campaña', 'temporada'],\n",
       "      dtype='object')"
      ]
     },
     "execution_count": 20,
     "metadata": {},
     "output_type": "execute_result"
    }
   ],
   "source": [
    "df_EDA=df_EDA.drop(columns=['mes'])\n",
    "df_EDA.columns"
   ]
  },
  {
   "cell_type": "code",
   "execution_count": 24,
   "metadata": {},
   "outputs": [],
   "source": [
    "df_EDA.to_csv('Datasets/kickstarter_EDA.csv', index=False)"
   ]
  },
  {
   "cell_type": "code",
   "execution_count": 23,
   "metadata": {},
   "outputs": [
    {
     "data": {
      "text/plain": [
       "Index(['nombre', 'categoria', 'lanzamiento', 'deadline', 'patrocinadores',\n",
       "       'meta', 'recaudacion', 'estado', 'mes_de_lanzamiento',\n",
       "       'año_de_lanzamiento', 'duracion_campaña', 'primavera', 'verano',\n",
       "       'otono', 'invierno', 'temporada', 'Mes', 'mes_1', 'mes_2', 'mes_3',\n",
       "       'mes_4', 'mes_5', 'mes_6', 'mes_7', 'mes_8', 'mes_9', 'mes_10',\n",
       "       'mes_11', 'mes_12', 'Pais', 'pais_AT', 'pais_AU', 'pais_BE', 'pais_CA',\n",
       "       'pais_CH', 'pais_DE', 'pais_DK', 'pais_ES', 'pais_FR', 'pais_GB',\n",
       "       'pais_HK', 'pais_IE', 'pais_IT', 'pais_JP', 'pais_LU', 'pais_MX',\n",
       "       'pais_N,0\"', 'pais_NL', 'pais_NO', 'pais_NZ', 'pais_SE', 'pais_SG',\n",
       "       'pais_US', 'Categoria', 'categoria_principal_Art',\n",
       "       'categoria_principal_Comics', 'categoria_principal_Crafts',\n",
       "       'categoria_principal_Dance', 'categoria_principal_Design',\n",
       "       'categoria_principal_Fashion', 'categoria_principal_Film & Video',\n",
       "       'categoria_principal_Food', 'categoria_principal_Games',\n",
       "       'categoria_principal_Journalism', 'categoria_principal_Music',\n",
       "       'categoria_principal_Photography', 'categoria_principal_Publishing',\n",
       "       'categoria_principal_Technology', 'categoria_principal_Theater'],\n",
       "      dtype='object')"
      ]
     },
     "execution_count": 23,
     "metadata": {},
     "output_type": "execute_result"
    }
   ],
   "source": [
    "df.columns"
   ]
  },
  {
   "cell_type": "markdown",
   "metadata": {},
   "source": [
    "## Campañas exitosas vs Fracasos"
   ]
  },
  {
   "cell_type": "code",
   "execution_count": 101,
   "metadata": {
    "scrolled": true
   },
   "outputs": [
    {
     "data": {
      "image/png": "[encoded data removed]",
      "text/plain": [
       "<Figure size 432x288 with 1 Axes>"
      ]
     },
     "metadata": {},
     "output_type": "display_data"
    }
   ],
   "source": [
    "labels ='Fracaso', 'Éxito',\n",
    "sizes = [len(df_EDA[df_EDA.exito==0]),len(df_EDA[df_EDA.exito==1]),  ]\n",
    "explode = (0, 0.1,) \n",
    "\n",
    "fig1, ax1 = plt.subplots()\n",
    "ax1.pie(sizes, explode=explode, labels=labels, autopct='%1.1f%%',\n",
    "        shadow=True, startangle=90)\n",
    "ax1.axis('equal')\n",
    "\n",
    "plt.show()"
   ]
  },
  {
   "cell_type": "markdown",
   "metadata": {},
   "source": [
    "El 36.2% de las campañas en el dataset están registradas como exitosas. Aunque existe un leve desbalance para la clasificación, no debería representar un problema. "
   ]
  },
  {
   "cell_type": "code",
   "execution_count": 109,
   "metadata": {},
   "outputs": [
    {
     "data": {
      "text/html": [
       "<div>\n",
       "<style scoped>\n",
       "    .dataframe tbody tr th:only-of-type {\n",
       "        vertical-align: middle;\n",
       "    }\n",
       "\n",
       "    .dataframe tbody tr th {\n",
       "        vertical-align: top;\n",
       "    }\n",
       "\n",
       "    .dataframe thead th {\n",
       "        text-align: right;\n",
       "    }\n",
       "</style>\n",
       "<table border=\"1\" class=\"dataframe\">\n",
       "  <thead>\n",
       "    <tr style=\"text-align: right;\">\n",
       "      <th></th>\n",
       "      <th>nombre</th>\n",
       "      <th>categoria</th>\n",
       "      <th>categoria_principal</th>\n",
       "      <th>pais</th>\n",
       "      <th>lanzamiento</th>\n",
       "      <th>deadline</th>\n",
       "      <th>patrocinadores</th>\n",
       "      <th>meta</th>\n",
       "      <th>recaudacion</th>\n",
       "      <th>exito</th>\n",
       "      <th>mes_de_lanzamiento</th>\n",
       "      <th>año_de_lanzamiento</th>\n",
       "      <th>duracion_campaña</th>\n",
       "      <th>primavera</th>\n",
       "      <th>verano</th>\n",
       "      <th>otono</th>\n",
       "      <th>invierno</th>\n",
       "      <th>temporada</th>\n",
       "    </tr>\n",
       "  </thead>\n",
       "  <tbody>\n",
       "  </tbody>\n",
       "</table>\n",
       "</div>"
      ],
      "text/plain": [
       "Empty DataFrame\n",
       "Columns: [nombre, categoria, categoria_principal, pais, lanzamiento, deadline, patrocinadores, meta, recaudacion, exito, mes_de_lanzamiento, año_de_lanzamiento, duracion_campaña, primavera, verano, otono, invierno, temporada]\n",
       "Index: []"
      ]
     },
     "execution_count": 109,
     "metadata": {},
     "output_type": "execute_result"
    }
   ],
   "source": [
    "df_EDA[df_EDA.año_de_lanzamiento==1970]"
   ]
  },
  {
   "cell_type": "code",
   "execution_count": 15,
   "metadata": {},
   "outputs": [
    {
     "data": {
      "text/html": [
       "<div>\n",
       "<style scoped>\n",
       "    .dataframe tbody tr th:only-of-type {\n",
       "        vertical-align: middle;\n",
       "    }\n",
       "\n",
       "    .dataframe tbody tr th {\n",
       "        vertical-align: top;\n",
       "    }\n",
       "\n",
       "    .dataframe thead th {\n",
       "        text-align: right;\n",
       "    }\n",
       "</style>\n",
       "<table border=\"1\" class=\"dataframe\">\n",
       "  <thead>\n",
       "    <tr style=\"text-align: right;\">\n",
       "      <th></th>\n",
       "      <th>nombre</th>\n",
       "      <th>categoria</th>\n",
       "      <th>categoria_principal</th>\n",
       "      <th>pais</th>\n",
       "      <th>lanzamiento</th>\n",
       "      <th>deadline</th>\n",
       "      <th>patrocinadores</th>\n",
       "      <th>meta</th>\n",
       "      <th>recaudacion</th>\n",
       "      <th>exito</th>\n",
       "      <th>mes_de_lanzamiento</th>\n",
       "      <th>año_de_lanzamiento</th>\n",
       "      <th>duracion_campaña</th>\n",
       "      <th>primavera</th>\n",
       "      <th>verano</th>\n",
       "      <th>otono</th>\n",
       "      <th>invierno</th>\n",
       "      <th>temporada</th>\n",
       "      <th>mes</th>\n",
       "    </tr>\n",
       "  </thead>\n",
       "  <tbody>\n",
       "    <tr>\n",
       "      <td>0</td>\n",
       "      <td>The Songs of Adelaide &amp; Abullah</td>\n",
       "      <td>Poetry</td>\n",
       "      <td>Publishing</td>\n",
       "      <td>GB</td>\n",
       "      <td>2015-11-08</td>\n",
       "      <td>2015-09-10</td>\n",
       "      <td>0</td>\n",
       "      <td>1533.95</td>\n",
       "      <td>0.00</td>\n",
       "      <td>0</td>\n",
       "      <td>11</td>\n",
       "      <td>2015</td>\n",
       "      <td>59</td>\n",
       "      <td>0</td>\n",
       "      <td>0</td>\n",
       "      <td>1</td>\n",
       "      <td>0</td>\n",
       "      <td>Otoño</td>\n",
       "      <td>0</td>\n",
       "    </tr>\n",
       "    <tr>\n",
       "      <td>1</td>\n",
       "      <td>Greeting From Earth: ZGAC Arts Capsule For ET</td>\n",
       "      <td>Narrative Film</td>\n",
       "      <td>Film &amp; Video</td>\n",
       "      <td>US</td>\n",
       "      <td>2017-02-09</td>\n",
       "      <td>2017-01-11</td>\n",
       "      <td>15</td>\n",
       "      <td>30000.00</td>\n",
       "      <td>2421.00</td>\n",
       "      <td>0</td>\n",
       "      <td>2</td>\n",
       "      <td>2017</td>\n",
       "      <td>29</td>\n",
       "      <td>0</td>\n",
       "      <td>0</td>\n",
       "      <td>0</td>\n",
       "      <td>1</td>\n",
       "      <td>Invierno</td>\n",
       "      <td>0</td>\n",
       "    </tr>\n",
       "    <tr>\n",
       "      <td>2</td>\n",
       "      <td>Where is Hank?</td>\n",
       "      <td>Narrative Film</td>\n",
       "      <td>Film &amp; Video</td>\n",
       "      <td>US</td>\n",
       "      <td>2013-12-01</td>\n",
       "      <td>2013-02-26</td>\n",
       "      <td>3</td>\n",
       "      <td>45000.00</td>\n",
       "      <td>220.00</td>\n",
       "      <td>0</td>\n",
       "      <td>12</td>\n",
       "      <td>2013</td>\n",
       "      <td>278</td>\n",
       "      <td>0</td>\n",
       "      <td>0</td>\n",
       "      <td>1</td>\n",
       "      <td>0</td>\n",
       "      <td>Otoño</td>\n",
       "      <td>0</td>\n",
       "    </tr>\n",
       "    <tr>\n",
       "      <td>3</td>\n",
       "      <td>ToshiCapital Rekordz Needs Help to Complete Album</td>\n",
       "      <td>Music</td>\n",
       "      <td>Music</td>\n",
       "      <td>US</td>\n",
       "      <td>2012-03-17</td>\n",
       "      <td>2012-04-16</td>\n",
       "      <td>1</td>\n",
       "      <td>5000.00</td>\n",
       "      <td>1.00</td>\n",
       "      <td>0</td>\n",
       "      <td>3</td>\n",
       "      <td>2012</td>\n",
       "      <td>30</td>\n",
       "      <td>0</td>\n",
       "      <td>0</td>\n",
       "      <td>0</td>\n",
       "      <td>1</td>\n",
       "      <td>Invierno</td>\n",
       "      <td>0</td>\n",
       "    </tr>\n",
       "    <tr>\n",
       "      <td>4</td>\n",
       "      <td>Community Film Project: The Art of Neighborhoo...</td>\n",
       "      <td>Film &amp; Video</td>\n",
       "      <td>Film &amp; Video</td>\n",
       "      <td>US</td>\n",
       "      <td>2015-04-07</td>\n",
       "      <td>2015-08-29</td>\n",
       "      <td>14</td>\n",
       "      <td>19500.00</td>\n",
       "      <td>1283.00</td>\n",
       "      <td>0</td>\n",
       "      <td>4</td>\n",
       "      <td>2015</td>\n",
       "      <td>144</td>\n",
       "      <td>1</td>\n",
       "      <td>0</td>\n",
       "      <td>0</td>\n",
       "      <td>0</td>\n",
       "      <td>Primavera</td>\n",
       "      <td>0</td>\n",
       "    </tr>\n",
       "  </tbody>\n",
       "</table>\n",
       "</div>"
      ],
      "text/plain": [
       "                                              nombre       categoria  \\\n",
       "0                    The Songs of Adelaide & Abullah          Poetry   \n",
       "1      Greeting From Earth: ZGAC Arts Capsule For ET  Narrative Film   \n",
       "2                                     Where is Hank?  Narrative Film   \n",
       "3  ToshiCapital Rekordz Needs Help to Complete Album           Music   \n",
       "4  Community Film Project: The Art of Neighborhoo...    Film & Video   \n",
       "\n",
       "  categoria_principal pais lanzamiento    deadline  patrocinadores     meta  \\\n",
       "0          Publishing   GB  2015-11-08  2015-09-10               0  1533.95   \n",
       "1        Film & Video   US  2017-02-09  2017-01-11              15 30000.00   \n",
       "2        Film & Video   US  2013-12-01  2013-02-26               3 45000.00   \n",
       "3               Music   US  2012-03-17  2012-04-16               1  5000.00   \n",
       "4        Film & Video   US  2015-04-07  2015-08-29              14 19500.00   \n",
       "\n",
       "   recaudacion  exito  mes_de_lanzamiento  año_de_lanzamiento  \\\n",
       "0         0.00      0                  11                2015   \n",
       "1      2421.00      0                   2                2017   \n",
       "2       220.00      0                  12                2013   \n",
       "3         1.00      0                   3                2012   \n",
       "4      1283.00      0                   4                2015   \n",
       "\n",
       "   duracion_campaña  primavera  verano  otono  invierno  temporada  mes  \n",
       "0                59          0       0      1         0      Otoño    0  \n",
       "1                29          0       0      0         1   Invierno    0  \n",
       "2               278          0       0      1         0      Otoño    0  \n",
       "3                30          0       0      0         1   Invierno    0  \n",
       "4               144          1       0      0         0  Primavera    0  "
      ]
     },
     "execution_count": 15,
     "metadata": {},
     "output_type": "execute_result"
    }
   ],
   "source": [
    "df_EDA.head()"
   ]
  },
  {
   "cell_type": "code",
   "execution_count": null,
   "metadata": {},
   "outputs": [],
   "source": []
  }
 ],
 "metadata": {
  "hide_input": false,
  "kernelspec": {
   "display_name": "Python 3",
   "language": "python",
   "name": "python3"
  },
  "language_info": {
   "codemirror_mode": {
    "name": "ipython",
    "version": 3
   },
   "file_extension": ".py",
   "mimetype": "text/x-python",
   "name": "python",
   "nbconvert_exporter": "python",
   "pygments_lexer": "ipython3",
   "version": "3.7.4"
  },
  "nbTranslate": {
   "displayLangs": [
    "en",
    "es"
   ],
   "hotkey": "alt-t",
   "langInMainMenu": true,
   "sourceLang": "es",
   "targetLang": "en",
   "useGoogleTranslate": true
  },
  "toc": {
   "base_numbering": 1,
   "nav_menu": {},
   "number_sections": true,
   "sideBar": true,
   "skip_h1_title": false,
   "title_cell": "Table of Contents",
   "title_sidebar": "Contents",
   "toc_cell": false,
   "toc_position": {
    "height": "calc(100% - 180px)",
    "left": "10px",
    "top": "150px",
    "width": "338.812px"
   },
   "toc_section_display": true,
   "toc_window_display": true
  }
 },
 "nbformat": 4,
 "nbformat_minor": 2
}
